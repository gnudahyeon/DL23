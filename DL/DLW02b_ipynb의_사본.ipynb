{
  "nbformat": 4,
  "nbformat_minor": 0,
  "metadata": {
    "colab": {
      "provenance": [],
      "include_colab_link": true
    },
    "kernelspec": {
      "name": "python3",
      "display_name": "Python 3"
    },
    "language_info": {
      "name": "python"
    }
  },
  "cells": [
    {
      "cell_type": "markdown",
      "metadata": {
        "id": "view-in-github",
        "colab_type": "text"
      },
      "source": [
        "<a href=\"https://colab.research.google.com/github/gnudahyeon/DL23/blob/main/DL/DLW02b_ipynb%EC%9D%98_%EC%82%AC%EB%B3%B8.ipynb\" target=\"_parent\"><img src=\"https://colab.research.google.com/assets/colab-badge.svg\" alt=\"Open In Colab\"/></a>"
      ]
    },
    {
      "cell_type": "markdown",
      "source": [
        "---\n",
        "# 📗 Topic [2]: Coding basic #2\n",
        "---\n",
        "Keywords:\n",
        "\n",
        "+ variables\n",
        "+ operators\n",
        "+ data types: list and dictionary"
      ],
      "metadata": {
        "id": "k4A5_MYHpcNQ"
      }
    },
    {
      "cell_type": "markdown",
      "source": [
        "Your github IDs [here](https://docs.google.com/spreadsheets/d/1rBlWeffj5RaBQS-lcv46r3Xe-JVF8PpwDngsuQhLKCc/edit?usp=sharing)"
      ],
      "metadata": {
        "id": "mUVgzk50XMkt"
      }
    },
    {
      "cell_type": "markdown",
      "source": [
        "## [1] Variables"
      ],
      "metadata": {
        "id": "93gQaEo1RX63"
      }
    },
    {
      "cell_type": "markdown",
      "source": [
        "+ **A variable** is a named storage location that holds a value.\n",
        "+ Variables can be used **to store values** such as numbers, strings, lists, or other data types. \n",
        "+ The value of a variable can change throughout the execution of a program. \n",
        "+ To declare a variable in Python, you need to assign a value to it using the **equal (=) sign.**"
      ],
      "metadata": {
        "id": "jJT4hD1teuJr"
      }
    },
    {
      "cell_type": "code",
      "source": [
        "x = 10\n",
        "y = \"Hello, class!\"\n",
        "z = [1, 2, 3]"
      ],
      "metadata": {
        "id": "Xes87bY2X45M"
      },
      "execution_count": 2,
      "outputs": []
    },
    {
      "cell_type": "markdown",
      "source": [
        "↗️ In the above example, 'x' is assigned the value of 10, 'y' is assigned the value of \"Hello, World!\", and 'z' is assigned the value of [1, 2, 3]."
      ],
      "metadata": {
        "id": "ulw6QsP5ZiKp"
      }
    },
    {
      "cell_type": "code",
      "source": [
        "# We can assign a link or a function\n",
        "import pandas as pd\n",
        "url = \"https://github.com/MK316/Spring2023/raw/main/data/att_sample.csv\"\n",
        "data = pd.read_csv(url)\n",
        "data"
      ],
      "metadata": {
        "id": "_7bvpJt2aQmg",
        "colab": {
          "base_uri": "https://localhost:8080/",
          "height": 488
        },
        "outputId": "1726ea43-fa63-42eb-db1c-1539a08850f4"
      },
      "execution_count": 3,
      "outputs": [
        {
          "output_type": "execute_result",
          "data": {
            "text/plain": [
              "      Names\n",
              "0      Mary\n",
              "1      John\n",
              "2       Tim\n",
              "3       Bob\n",
              "4     Sarah\n",
              "5      Kate\n",
              "6     Marie\n",
              "7   Johnson\n",
              "8      Mike\n",
              "9     Harry\n",
              "10      Jin\n",
              "11      Sam\n",
              "12     Paul\n",
              "13  Natalie"
            ],
            "text/html": [
              "\n",
              "  <div id=\"df-e841b941-3d74-41bb-aaa1-3aba5570d71e\">\n",
              "    <div class=\"colab-df-container\">\n",
              "      <div>\n",
              "<style scoped>\n",
              "    .dataframe tbody tr th:only-of-type {\n",
              "        vertical-align: middle;\n",
              "    }\n",
              "\n",
              "    .dataframe tbody tr th {\n",
              "        vertical-align: top;\n",
              "    }\n",
              "\n",
              "    .dataframe thead th {\n",
              "        text-align: right;\n",
              "    }\n",
              "</style>\n",
              "<table border=\"1\" class=\"dataframe\">\n",
              "  <thead>\n",
              "    <tr style=\"text-align: right;\">\n",
              "      <th></th>\n",
              "      <th>Names</th>\n",
              "    </tr>\n",
              "  </thead>\n",
              "  <tbody>\n",
              "    <tr>\n",
              "      <th>0</th>\n",
              "      <td>Mary</td>\n",
              "    </tr>\n",
              "    <tr>\n",
              "      <th>1</th>\n",
              "      <td>John</td>\n",
              "    </tr>\n",
              "    <tr>\n",
              "      <th>2</th>\n",
              "      <td>Tim</td>\n",
              "    </tr>\n",
              "    <tr>\n",
              "      <th>3</th>\n",
              "      <td>Bob</td>\n",
              "    </tr>\n",
              "    <tr>\n",
              "      <th>4</th>\n",
              "      <td>Sarah</td>\n",
              "    </tr>\n",
              "    <tr>\n",
              "      <th>5</th>\n",
              "      <td>Kate</td>\n",
              "    </tr>\n",
              "    <tr>\n",
              "      <th>6</th>\n",
              "      <td>Marie</td>\n",
              "    </tr>\n",
              "    <tr>\n",
              "      <th>7</th>\n",
              "      <td>Johnson</td>\n",
              "    </tr>\n",
              "    <tr>\n",
              "      <th>8</th>\n",
              "      <td>Mike</td>\n",
              "    </tr>\n",
              "    <tr>\n",
              "      <th>9</th>\n",
              "      <td>Harry</td>\n",
              "    </tr>\n",
              "    <tr>\n",
              "      <th>10</th>\n",
              "      <td>Jin</td>\n",
              "    </tr>\n",
              "    <tr>\n",
              "      <th>11</th>\n",
              "      <td>Sam</td>\n",
              "    </tr>\n",
              "    <tr>\n",
              "      <th>12</th>\n",
              "      <td>Paul</td>\n",
              "    </tr>\n",
              "    <tr>\n",
              "      <th>13</th>\n",
              "      <td>Natalie</td>\n",
              "    </tr>\n",
              "  </tbody>\n",
              "</table>\n",
              "</div>\n",
              "      <button class=\"colab-df-convert\" onclick=\"convertToInteractive('df-e841b941-3d74-41bb-aaa1-3aba5570d71e')\"\n",
              "              title=\"Convert this dataframe to an interactive table.\"\n",
              "              style=\"display:none;\">\n",
              "        \n",
              "  <svg xmlns=\"http://www.w3.org/2000/svg\" height=\"24px\"viewBox=\"0 0 24 24\"\n",
              "       width=\"24px\">\n",
              "    <path d=\"M0 0h24v24H0V0z\" fill=\"none\"/>\n",
              "    <path d=\"M18.56 5.44l.94 2.06.94-2.06 2.06-.94-2.06-.94-.94-2.06-.94 2.06-2.06.94zm-11 1L8.5 8.5l.94-2.06 2.06-.94-2.06-.94L8.5 2.5l-.94 2.06-2.06.94zm10 10l.94 2.06.94-2.06 2.06-.94-2.06-.94-.94-2.06-.94 2.06-2.06.94z\"/><path d=\"M17.41 7.96l-1.37-1.37c-.4-.4-.92-.59-1.43-.59-.52 0-1.04.2-1.43.59L10.3 9.45l-7.72 7.72c-.78.78-.78 2.05 0 2.83L4 21.41c.39.39.9.59 1.41.59.51 0 1.02-.2 1.41-.59l7.78-7.78 2.81-2.81c.8-.78.8-2.07 0-2.86zM5.41 20L4 18.59l7.72-7.72 1.47 1.35L5.41 20z\"/>\n",
              "  </svg>\n",
              "      </button>\n",
              "      \n",
              "  <style>\n",
              "    .colab-df-container {\n",
              "      display:flex;\n",
              "      flex-wrap:wrap;\n",
              "      gap: 12px;\n",
              "    }\n",
              "\n",
              "    .colab-df-convert {\n",
              "      background-color: #E8F0FE;\n",
              "      border: none;\n",
              "      border-radius: 50%;\n",
              "      cursor: pointer;\n",
              "      display: none;\n",
              "      fill: #1967D2;\n",
              "      height: 32px;\n",
              "      padding: 0 0 0 0;\n",
              "      width: 32px;\n",
              "    }\n",
              "\n",
              "    .colab-df-convert:hover {\n",
              "      background-color: #E2EBFA;\n",
              "      box-shadow: 0px 1px 2px rgba(60, 64, 67, 0.3), 0px 1px 3px 1px rgba(60, 64, 67, 0.15);\n",
              "      fill: #174EA6;\n",
              "    }\n",
              "\n",
              "    [theme=dark] .colab-df-convert {\n",
              "      background-color: #3B4455;\n",
              "      fill: #D2E3FC;\n",
              "    }\n",
              "\n",
              "    [theme=dark] .colab-df-convert:hover {\n",
              "      background-color: #434B5C;\n",
              "      box-shadow: 0px 1px 3px 1px rgba(0, 0, 0, 0.15);\n",
              "      filter: drop-shadow(0px 1px 2px rgba(0, 0, 0, 0.3));\n",
              "      fill: #FFFFFF;\n",
              "    }\n",
              "  </style>\n",
              "\n",
              "      <script>\n",
              "        const buttonEl =\n",
              "          document.querySelector('#df-e841b941-3d74-41bb-aaa1-3aba5570d71e button.colab-df-convert');\n",
              "        buttonEl.style.display =\n",
              "          google.colab.kernel.accessAllowed ? 'block' : 'none';\n",
              "\n",
              "        async function convertToInteractive(key) {\n",
              "          const element = document.querySelector('#df-e841b941-3d74-41bb-aaa1-3aba5570d71e');\n",
              "          const dataTable =\n",
              "            await google.colab.kernel.invokeFunction('convertToInteractive',\n",
              "                                                     [key], {});\n",
              "          if (!dataTable) return;\n",
              "\n",
              "          const docLinkHtml = 'Like what you see? Visit the ' +\n",
              "            '<a target=\"_blank\" href=https://colab.research.google.com/notebooks/data_table.ipynb>data table notebook</a>'\n",
              "            + ' to learn more about interactive tables.';\n",
              "          element.innerHTML = '';\n",
              "          dataTable['output_type'] = 'display_data';\n",
              "          await google.colab.output.renderOutput(dataTable, element);\n",
              "          const docLink = document.createElement('div');\n",
              "          docLink.innerHTML = docLinkHtml;\n",
              "          element.appendChild(docLink);\n",
              "        }\n",
              "      </script>\n",
              "    </div>\n",
              "  </div>\n",
              "  "
            ]
          },
          "metadata": {},
          "execution_count": 3
        }
      ]
    },
    {
      "cell_type": "markdown",
      "source": [
        "import : 불러오는 함수 \n",
        "csv 엑셀 "
      ],
      "metadata": {
        "id": "EhiLMWTx1QIC"
      }
    },
    {
      "cell_type": "markdown",
      "source": [
        "## Commenting '#'\n",
        "\n",
        "- In Python, the # symbol is used to indicate a comment. A comment is a line of text in a code that is ignored by the Python interpreter and is used to provide explanations or notes for the reader of the code."
      ],
      "metadata": {
        "id": "xZv9R8I8ZWvt"
      }
    },
    {
      "cell_type": "code",
      "source": [
        "# This is a comment in Python\n",
        "x = 10 # this is also a comment"
      ],
      "metadata": {
        "id": "7UJmbmmTaFx9"
      },
      "execution_count": 1,
      "outputs": []
    },
    {
      "cell_type": "code",
      "source": [
        "x1 = x * 10\n",
        "x2 = x + 5\n",
        "\n",
        "print(x1, x2)"
      ],
      "metadata": {
        "id": "Ivc72tB0X_TS",
        "outputId": "0c91b4eb-f5c9-42fd-8eb0-4f6b1150d523",
        "colab": {
          "base_uri": "https://localhost:8080/"
        }
      },
      "execution_count": 4,
      "outputs": [
        {
          "output_type": "stream",
          "name": "stdout",
          "text": [
            "100 15\n"
          ]
        }
      ]
    },
    {
      "cell_type": "code",
      "source": [
        "y1 = y + \"Welcome to the class.\"\n",
        "z1 = z + [3,2,1]\n",
        " \n",
        "print(y1, z1)"
      ],
      "metadata": {
        "id": "cxePqv-52RU0",
        "outputId": "22260567-eddc-4f6c-c37c-9f124e6ef02f",
        "colab": {
          "base_uri": "https://localhost:8080/"
        }
      },
      "execution_count": 5,
      "outputs": [
        {
          "output_type": "stream",
          "name": "stdout",
          "text": [
            "Hello, class!Welcome to the class. [1, 2, 3, 3, 2, 1]\n"
          ]
        }
      ]
    },
    {
      "cell_type": "markdown",
      "source": [
        "\n",
        "\n"
      ],
      "metadata": {
        "id": "GM5mv1G3X_0J"
      }
    },
    {
      "cell_type": "markdown",
      "source": [
        "## [2] Operators\n",
        "\n",
        "* Symbols that perform operations on values and variables. \n",
        "* They are used to perform arithmetic and logical operations, and they can also be used to manipulate and compare values. "
      ],
      "metadata": {
        "id": "5JgA2T2dRft5"
      }
    },
    {
      "cell_type": "markdown",
      "source": [
        "1. Arithmetic Operators: +, -, *, /, %, ** (for exponentiation)"
      ],
      "metadata": {
        "id": "NJBgu_O4bczL"
      }
    },
    {
      "cell_type": "code",
      "source": [
        "x = 2; y = 5\n",
        "\n",
        "a1 = x + y\n",
        "a2 = x - y\n",
        "a3 = x * y\n",
        "a4 = x / y\n",
        "a5 = x ** y"
      ],
      "metadata": {
        "id": "dXT3pIzobUHU"
      },
      "execution_count": 6,
      "outputs": []
    },
    {
      "cell_type": "markdown",
      "source": [
        "x ** y = x를 y번만큼 곱함\n",
        "a5= 2의 5승 = 32"
      ],
      "metadata": {
        "id": "yhCz__Wa2aMt"
      }
    },
    {
      "cell_type": "code",
      "source": [
        "print(a1, a2, a3, a4, a5)"
      ],
      "metadata": {
        "colab": {
          "base_uri": "https://localhost:8080/"
        },
        "id": "_m3JBsOKd6Uv",
        "outputId": "7c09a90a-adfe-46c6-de7b-0c0d224c9b68"
      },
      "execution_count": 7,
      "outputs": [
        {
          "output_type": "stream",
          "name": "stdout",
          "text": [
            "7 -3 10 0.4 32\n"
          ]
        }
      ]
    },
    {
      "cell_type": "markdown",
      "source": [
        "# 🌱 Demo 🔢 Calculator"
      ],
      "metadata": {
        "id": "Cx1NyWUAybc8"
      }
    },
    {
      "cell_type": "code",
      "source": [
        "#@markdown 🔄 [1] Making functions (sample): tts(text)\n",
        "%%capture\n",
        "!pip install gTTS\n",
        "from gtts import gTTS\n",
        "from IPython.display import Audio\n",
        "\n",
        "def tts(text):\n",
        "  gtts_object = gTTS(text,lang = \"en\", slow = True) \n",
        "  gtts_object.save(\"myaudio.mp3\")\n",
        "  return Audio(\"myaudio.mp3\")"
      ],
      "metadata": {
        "cellView": "form",
        "id": "yz1enZ9s4kSR"
      },
      "execution_count": 8,
      "outputs": []
    },
    {
      "cell_type": "code",
      "source": [
        "# This function adds two numbers\n",
        "def add(x, y):\n",
        "    return x + y\n",
        "\n",
        "# This function subtracts two numbers\n",
        "def subtract(x, y):\n",
        "    return x - y\n",
        "\n",
        "# This function multiplies two numbers\n",
        "def multiply(x, y):\n",
        "    return x * y\n",
        "\n",
        "# This function divides two numbers\n",
        "def divide(x, y):\n",
        "    return x / y\n"
      ],
      "metadata": {
        "id": "Dod3_zgYdsWe"
      },
      "execution_count": 9,
      "outputs": []
    },
    {
      "cell_type": "code",
      "source": [
        "# Test\n",
        "\n",
        "add(2,3)\n",
        "subtract(3,2)\n",
        "multiply(2,3)\n",
        "divide(3,2)"
      ],
      "metadata": {
        "colab": {
          "base_uri": "https://localhost:8080/"
        },
        "id": "IoHh-U2GBsqH",
        "outputId": "f53dcd19-cb49-4626-b16b-1556441c6c06"
      },
      "execution_count": 13,
      "outputs": [
        {
          "output_type": "execute_result",
          "data": {
            "text/plain": [
              "1.5"
            ]
          },
          "metadata": {},
          "execution_count": 13
        }
      ]
    },
    {
      "cell_type": "markdown",
      "source": [
        "## Using dropbox format"
      ],
      "metadata": {
        "id": "eOluPoNqCCE1"
      }
    },
    {
      "cell_type": "code",
      "source": [
        "func = \"multiply\" #@param = [\"add\",\"subtract\",\"multiply\",\"divide\"]\n",
        "digits = input(\"Type two numbers: (e.g., 3,4)\")\n",
        "digitsplit = digits.split(',')\n",
        "d1 = int(digitsplit[0])\n",
        "d2 = int(digitsplit[1])\n",
        "\n",
        "if func == \"add\":\n",
        "  result = add(d1,d2)\n",
        "  text = \"The addition of %d and %d equals %d.\"%(d1,d2,result)\n",
        "elif func == \"subtract\":\n",
        "  result = subtract(d1,d2)\n",
        "  text = \"If you subtract %d from %d, you get %d.\"%(d2,d1,result)\n",
        "elif func == \"divide\":\n",
        "  result = divide(d1,d2)\n",
        "  text = \"When you divide %d by %d, you get %d.\"%(d1,d2,result)\n",
        "elif func == \"multiply\":\n",
        "  result = multiply(d1,d2)\n",
        "  text = \"%d multiplied by %d is %d.\"%(d1,d2,result)\n",
        "\n",
        "print(text)\n",
        "tts(text)\n",
        "Audio(\"myaudio.mp3\")"
      ],
      "metadata": {
        "id": "FT47bY6qBo3k",
        "colab": {
          "base_uri": "https://localhost:8080/",
          "height": 110
        },
        "outputId": "e9983bbd-a362-443f-af5a-9b42dcf8acda"
      },
      "execution_count": 15,
      "outputs": [
        {
          "output_type": "stream",
          "name": "stdout",
          "text": [
            "Type two numbers: (e.g., 3,4)5,5\n",
            "5 multiplied by 5 is 25.\n"
          ]
        },
        {
          "output_type": "execute_result",
          "data": {
            "text/plain": [
              "<IPython.lib.display.Audio object>"
            ],
            "text/html": [
              "\n",
              "                <audio  controls=\"controls\" >\n",
              "                    <source src=\"data:audio/mpeg;base64,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\" type=\"audio/mpeg\" />\n",
              "                    Your browser does not support the audio element.\n",
              "                </audio>\n",
              "              "
            ]
          },
          "metadata": {},
          "execution_count": 15
        }
      ]
    },
    {
      "cell_type": "markdown",
      "source": [
        "digits = 0부터 9로 이루어진 숫자 "
      ],
      "metadata": {
        "id": "BAHHKFzp3UwG"
      }
    },
    {
      "cell_type": "markdown",
      "source": [
        "More operators: <br>\n",
        "* Comparison Operators: ==, !=, <, >, <=, >= <br>\n",
        "* Assignment Operators: =, +=, -=, *=, /=, %= <br>\n",
        "* Logical Operators: and, or, not <br>\n",
        "* Identity Operators: is, is not <br>\n",
        "* Membership Operators: in, not in "
      ],
      "metadata": {
        "id": "sfubu24UbqjH"
      }
    },
    {
      "cell_type": "markdown",
      "source": [
        "# ⏰ Todo: "
      ],
      "metadata": {
        "id": "9D7U7633g0S_"
      }
    },
    {
      "cell_type": "markdown",
      "source": [
        "Using Colab, create a code page (DL_Assign01.ipynb) and post it on your Github account under a repository named DL.\n",
        "\n",
        "\n",
        "1. Create a repository named \"DL\"\n",
        "2. Open DL_Assign01.ipynb on colab: 💾**Goto [Assign#1](https://github.com/MK316/Spring2023/blob/main/DL/DL_Assign01.ipynb)**\n",
        "3. Complete code cells following the directions\n",
        "4. Save a copy in Github (File > Save a copy in Github)"
      ],
      "metadata": {
        "id": "mSpge9tenu6I"
      }
    },
    {
      "cell_type": "markdown",
      "source": [
        "\n",
        "\n",
        "---\n",
        "\n"
      ],
      "metadata": {
        "id": "3cZjH9xIiN4_"
      }
    }
  ]
}