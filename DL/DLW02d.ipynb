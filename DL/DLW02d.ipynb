{
  "nbformat": 4,
  "nbformat_minor": 0,
  "metadata": {
    "colab": {
      "provenance": [],
      "include_colab_link": true
    },
    "kernelspec": {
      "name": "python3",
      "display_name": "Python 3"
    },
    "language_info": {
      "name": "python"
    }
  },
  "cells": [
    {
      "cell_type": "markdown",
      "metadata": {
        "id": "view-in-github",
        "colab_type": "text"
      },
      "source": [
        "<a href=\"https://colab.research.google.com/github/gnudahyeon/DL23/blob/main/DL/DLW02d.ipynb\" target=\"_parent\"><img src=\"https://colab.research.google.com/assets/colab-badge.svg\" alt=\"Open In Colab\"/></a>"
      ]
    },
    {
      "cell_type": "markdown",
      "source": [
        "---\n",
        "# 📗 Topic [2]: Coding basic #2\n",
        "---\n",
        "Keywords:\n",
        "\n",
        "+ variables\n",
        "+ **operators**\n",
        "+ **data types: list and dictionary**"
      ],
      "metadata": {
        "id": "k4A5_MYHpcNQ"
      }
    },
    {
      "cell_type": "markdown",
      "source": [
        "Your github IDs [here](https://docs.google.com/spreadsheets/d/17SX51lCqOdtvC7cAGoX5tP9fKwVdGY5sRzMg2pXh9uk/edit#gid=0) - revised 0327"
      ],
      "metadata": {
        "id": "mUVgzk50XMkt"
      }
    },
    {
      "cell_type": "markdown",
      "source": [
        "## [1] Variables"
      ],
      "metadata": {
        "id": "93gQaEo1RX63"
      }
    },
    {
      "cell_type": "markdown",
      "source": [
        "+ **A variable** is a named storage location that holds a value.\n",
        "+ Variables can be used **to store values** such as numbers, strings, lists, or other data types. \n",
        "+ The value of a variable can change throughout the execution of a program. \n",
        "+ To declare a variable in Python, you need to assign a value to it using the **equal (=) sign.**"
      ],
      "metadata": {
        "id": "jJT4hD1teuJr"
      }
    },
    {
      "cell_type": "code",
      "source": [
        "x = 10\n",
        "y = \"Hello, class!\"\n",
        "z = [1, 2, 3]"
      ],
      "metadata": {
        "id": "Xes87bY2X45M"
      },
      "execution_count": 3,
      "outputs": []
    },
    {
      "cell_type": "markdown",
      "source": [
        "↗️ In the above example, 'x' is assigned the value of 10, 'y' is assigned the value of \"Hello, World!\", and 'z' is assigned the value of [1, 2, 3]."
      ],
      "metadata": {
        "id": "ulw6QsP5ZiKp"
      }
    },
    {
      "cell_type": "code",
      "source": [
        "# We can assign a link or a function\n",
        "import pandas as pd\n",
        "url = \"https://github.com/MK316/Spring2023/raw/main/data/att_sample.csv\"\n",
        "data = pd.read_csv(url)\n",
        "data"
      ],
      "metadata": {
        "id": "_7bvpJt2aQmg",
        "colab": {
          "base_uri": "https://localhost:8080/",
          "height": 488
        },
        "outputId": "ac98fd8b-9660-4c35-afcc-cdc2b1459f46"
      },
      "execution_count": 4,
      "outputs": [
        {
          "output_type": "execute_result",
          "data": {
            "text/plain": [
              "      Names\n",
              "0      Mary\n",
              "1      John\n",
              "2       Tim\n",
              "3       Bob\n",
              "4     Sarah\n",
              "5      Kate\n",
              "6     Marie\n",
              "7   Johnson\n",
              "8      Mike\n",
              "9     Harry\n",
              "10      Jin\n",
              "11      Sam\n",
              "12     Paul\n",
              "13  Natalie"
            ],
            "text/html": [
              "\n",
              "  <div id=\"df-51238a10-92d0-4463-a63e-2b21d722b560\">\n",
              "    <div class=\"colab-df-container\">\n",
              "      <div>\n",
              "<style scoped>\n",
              "    .dataframe tbody tr th:only-of-type {\n",
              "        vertical-align: middle;\n",
              "    }\n",
              "\n",
              "    .dataframe tbody tr th {\n",
              "        vertical-align: top;\n",
              "    }\n",
              "\n",
              "    .dataframe thead th {\n",
              "        text-align: right;\n",
              "    }\n",
              "</style>\n",
              "<table border=\"1\" class=\"dataframe\">\n",
              "  <thead>\n",
              "    <tr style=\"text-align: right;\">\n",
              "      <th></th>\n",
              "      <th>Names</th>\n",
              "    </tr>\n",
              "  </thead>\n",
              "  <tbody>\n",
              "    <tr>\n",
              "      <th>0</th>\n",
              "      <td>Mary</td>\n",
              "    </tr>\n",
              "    <tr>\n",
              "      <th>1</th>\n",
              "      <td>John</td>\n",
              "    </tr>\n",
              "    <tr>\n",
              "      <th>2</th>\n",
              "      <td>Tim</td>\n",
              "    </tr>\n",
              "    <tr>\n",
              "      <th>3</th>\n",
              "      <td>Bob</td>\n",
              "    </tr>\n",
              "    <tr>\n",
              "      <th>4</th>\n",
              "      <td>Sarah</td>\n",
              "    </tr>\n",
              "    <tr>\n",
              "      <th>5</th>\n",
              "      <td>Kate</td>\n",
              "    </tr>\n",
              "    <tr>\n",
              "      <th>6</th>\n",
              "      <td>Marie</td>\n",
              "    </tr>\n",
              "    <tr>\n",
              "      <th>7</th>\n",
              "      <td>Johnson</td>\n",
              "    </tr>\n",
              "    <tr>\n",
              "      <th>8</th>\n",
              "      <td>Mike</td>\n",
              "    </tr>\n",
              "    <tr>\n",
              "      <th>9</th>\n",
              "      <td>Harry</td>\n",
              "    </tr>\n",
              "    <tr>\n",
              "      <th>10</th>\n",
              "      <td>Jin</td>\n",
              "    </tr>\n",
              "    <tr>\n",
              "      <th>11</th>\n",
              "      <td>Sam</td>\n",
              "    </tr>\n",
              "    <tr>\n",
              "      <th>12</th>\n",
              "      <td>Paul</td>\n",
              "    </tr>\n",
              "    <tr>\n",
              "      <th>13</th>\n",
              "      <td>Natalie</td>\n",
              "    </tr>\n",
              "  </tbody>\n",
              "</table>\n",
              "</div>\n",
              "      <button class=\"colab-df-convert\" onclick=\"convertToInteractive('df-51238a10-92d0-4463-a63e-2b21d722b560')\"\n",
              "              title=\"Convert this dataframe to an interactive table.\"\n",
              "              style=\"display:none;\">\n",
              "        \n",
              "  <svg xmlns=\"http://www.w3.org/2000/svg\" height=\"24px\"viewBox=\"0 0 24 24\"\n",
              "       width=\"24px\">\n",
              "    <path d=\"M0 0h24v24H0V0z\" fill=\"none\"/>\n",
              "    <path d=\"M18.56 5.44l.94 2.06.94-2.06 2.06-.94-2.06-.94-.94-2.06-.94 2.06-2.06.94zm-11 1L8.5 8.5l.94-2.06 2.06-.94-2.06-.94L8.5 2.5l-.94 2.06-2.06.94zm10 10l.94 2.06.94-2.06 2.06-.94-2.06-.94-.94-2.06-.94 2.06-2.06.94z\"/><path d=\"M17.41 7.96l-1.37-1.37c-.4-.4-.92-.59-1.43-.59-.52 0-1.04.2-1.43.59L10.3 9.45l-7.72 7.72c-.78.78-.78 2.05 0 2.83L4 21.41c.39.39.9.59 1.41.59.51 0 1.02-.2 1.41-.59l7.78-7.78 2.81-2.81c.8-.78.8-2.07 0-2.86zM5.41 20L4 18.59l7.72-7.72 1.47 1.35L5.41 20z\"/>\n",
              "  </svg>\n",
              "      </button>\n",
              "      \n",
              "  <style>\n",
              "    .colab-df-container {\n",
              "      display:flex;\n",
              "      flex-wrap:wrap;\n",
              "      gap: 12px;\n",
              "    }\n",
              "\n",
              "    .colab-df-convert {\n",
              "      background-color: #E8F0FE;\n",
              "      border: none;\n",
              "      border-radius: 50%;\n",
              "      cursor: pointer;\n",
              "      display: none;\n",
              "      fill: #1967D2;\n",
              "      height: 32px;\n",
              "      padding: 0 0 0 0;\n",
              "      width: 32px;\n",
              "    }\n",
              "\n",
              "    .colab-df-convert:hover {\n",
              "      background-color: #E2EBFA;\n",
              "      box-shadow: 0px 1px 2px rgba(60, 64, 67, 0.3), 0px 1px 3px 1px rgba(60, 64, 67, 0.15);\n",
              "      fill: #174EA6;\n",
              "    }\n",
              "\n",
              "    [theme=dark] .colab-df-convert {\n",
              "      background-color: #3B4455;\n",
              "      fill: #D2E3FC;\n",
              "    }\n",
              "\n",
              "    [theme=dark] .colab-df-convert:hover {\n",
              "      background-color: #434B5C;\n",
              "      box-shadow: 0px 1px 3px 1px rgba(0, 0, 0, 0.15);\n",
              "      filter: drop-shadow(0px 1px 2px rgba(0, 0, 0, 0.3));\n",
              "      fill: #FFFFFF;\n",
              "    }\n",
              "  </style>\n",
              "\n",
              "      <script>\n",
              "        const buttonEl =\n",
              "          document.querySelector('#df-51238a10-92d0-4463-a63e-2b21d722b560 button.colab-df-convert');\n",
              "        buttonEl.style.display =\n",
              "          google.colab.kernel.accessAllowed ? 'block' : 'none';\n",
              "\n",
              "        async function convertToInteractive(key) {\n",
              "          const element = document.querySelector('#df-51238a10-92d0-4463-a63e-2b21d722b560');\n",
              "          const dataTable =\n",
              "            await google.colab.kernel.invokeFunction('convertToInteractive',\n",
              "                                                     [key], {});\n",
              "          if (!dataTable) return;\n",
              "\n",
              "          const docLinkHtml = 'Like what you see? Visit the ' +\n",
              "            '<a target=\"_blank\" href=https://colab.research.google.com/notebooks/data_table.ipynb>data table notebook</a>'\n",
              "            + ' to learn more about interactive tables.';\n",
              "          element.innerHTML = '';\n",
              "          dataTable['output_type'] = 'display_data';\n",
              "          await google.colab.output.renderOutput(dataTable, element);\n",
              "          const docLink = document.createElement('div');\n",
              "          docLink.innerHTML = docLinkHtml;\n",
              "          element.appendChild(docLink);\n",
              "        }\n",
              "      </script>\n",
              "    </div>\n",
              "  </div>\n",
              "  "
            ]
          },
          "metadata": {},
          "execution_count": 4
        }
      ]
    },
    {
      "cell_type": "markdown",
      "source": [
        "csv : 엑셀 변환"
      ],
      "metadata": {
        "id": "xliebn1CIKml"
      }
    },
    {
      "cell_type": "markdown",
      "source": [
        "## Commenting '#'\n",
        "\n",
        "- In Python, the # symbol is used to indicate comment lines. A comment is a line of text in a code that is ignored by the Python interpreter and is used to provide explanations or notes for the reader of the code.\n",
        "\n",
        "## Uncommenting shortcut: \n",
        "* \"Ctrl + /\" (Place the cursor on the code line and press the Control + / key.)"
      ],
      "metadata": {
        "id": "xZv9R8I8ZWvt"
      }
    },
    {
      "cell_type": "markdown",
      "source": [
        "#이후의 문자는 컴퓨터가 명령으로 인식하지 않음\n"
      ],
      "metadata": {
        "id": "gukWoEI9JD6V"
      }
    },
    {
      "cell_type": "markdown",
      "source": [],
      "metadata": {
        "id": "oQ4MvLcHIS0N"
      }
    },
    {
      "cell_type": "code",
      "source": [
        "# This is a comment in Python\n",
        "x = 10 # this is also a comment"
      ],
      "metadata": {
        "id": "7UJmbmmTaFx9"
      },
      "execution_count": 1,
      "outputs": []
    },
    {
      "cell_type": "code",
      "source": [
        "x1 = x * 10\n",
        "x2 = x + 5\n",
        "\n",
        "print(x1) # Print the value of x1\n",
        "print(x1, x2) # Print the values of x1 and x2"
      ],
      "metadata": {
        "id": "Ivc72tB0X_TS",
        "colab": {
          "base_uri": "https://localhost:8080/"
        },
        "outputId": "c52becc6-962f-464a-864a-4e3b6ad4eaa1"
      },
      "execution_count": 7,
      "outputs": [
        {
          "output_type": "stream",
          "name": "stdout",
          "text": [
            "100\n",
            "100 15\n"
          ]
        }
      ]
    },
    {
      "cell_type": "markdown",
      "source": [
        "원래 마지막 줄 결과만 나옴\n",
        "▷print 사용\n",
        "대소문자 틀린것도 에러로 인식\n",
        "ctrl+/ 동시에 누르면 # "
      ],
      "metadata": {
        "id": "A0uFfO49Ipp9"
      }
    },
    {
      "cell_type": "code",
      "source": [
        "print(y)\n",
        "y1 = y + \"Welcome to the class.\"\n",
        "z1 = z + [3,2,1]\n",
        " \n",
        "print(y1, z1)"
      ],
      "metadata": {
        "id": "cxePqv-52RU0",
        "colab": {
          "base_uri": "https://localhost:8080/"
        },
        "outputId": "c994f51f-f811-47b9-c359-37b5450e80ae"
      },
      "execution_count": 8,
      "outputs": [
        {
          "output_type": "stream",
          "name": "stdout",
          "text": [
            "Hello, class!\n",
            "Hello, class!Welcome to the class. [1, 2, 3, 3, 2, 1]\n"
          ]
        }
      ]
    },
    {
      "cell_type": "markdown",
      "source": [
        "Input types:\n",
        "\n",
        "* integer: e.g., -3, 1, 0, 234, etc.\n",
        "* float: e.g., -3.0, 1.2, 0, 3.141592653589793238, etc.\n",
        "* string: (characters) \"1\", '0', \"3.29\", \"Mary\", \"euphoria\", 'My name is Jane.'\n",
        "\n",
        "_Note:_ double or single quotation marks denote **string** data. (Open and close should match.)"
      ],
      "metadata": {
        "id": "4zDbyBHbeQsq"
      }
    },
    {
      "cell_type": "markdown",
      "source": [
        "정수 integer \n",
        "소숫점 유무 float\n",
        "\"\"안에 들어가면 숫자가 아닌 문자로 인식 (string)\n"
      ],
      "metadata": {
        "id": "LtQZvAriJ3cN"
      }
    },
    {
      "cell_type": "code",
      "source": [
        "# DIY\n",
        "x = 1\n",
        "y = 3\n",
        "z = x + y\n",
        "print(z)\n",
        "\n",
        "x1 = \"1\"\n",
        "y1 = \"3\"\n",
        "z1 = x1 + y1\n",
        "print(z1)"
      ],
      "metadata": {
        "colab": {
          "base_uri": "https://localhost:8080/"
        },
        "id": "yzZuC29QfP3T",
        "outputId": "4eb3ca23-0eba-4a45-fc2e-18549275d58a"
      },
      "execution_count": 9,
      "outputs": [
        {
          "output_type": "stream",
          "name": "stdout",
          "text": [
            "4\n",
            "13\n"
          ]
        }
      ]
    },
    {
      "cell_type": "code",
      "source": [
        "type(z)"
      ],
      "metadata": {
        "colab": {
          "base_uri": "https://localhost:8080/"
        },
        "id": "qwDb8cf5fkKi",
        "outputId": "abadb55e-f222-4d3a-e897-553e3523818a"
      },
      "execution_count": 10,
      "outputs": [
        {
          "output_type": "execute_result",
          "data": {
            "text/plain": [
              "int"
            ]
          },
          "metadata": {},
          "execution_count": 10
        }
      ]
    },
    {
      "cell_type": "code",
      "source": [
        "type(z1)"
      ],
      "metadata": {
        "colab": {
          "base_uri": "https://localhost:8080/"
        },
        "id": "L7sxvSaOfsOt",
        "outputId": "c217b535-b77d-43ee-99a0-f152ee2ec783"
      },
      "execution_count": 11,
      "outputs": [
        {
          "output_type": "execute_result",
          "data": {
            "text/plain": [
              "str"
            ]
          },
          "metadata": {},
          "execution_count": 11
        }
      ]
    },
    {
      "cell_type": "code",
      "source": [
        "print(type(z), type(z1))"
      ],
      "metadata": {
        "colab": {
          "base_uri": "https://localhost:8080/"
        },
        "id": "bbFaL_GWfwMH",
        "outputId": "ef02e546-692d-49e9-c8f3-07c111e3b320"
      },
      "execution_count": 12,
      "outputs": [
        {
          "output_type": "stream",
          "name": "stdout",
          "text": [
            "<class 'int'> <class 'str'>\n"
          ]
        }
      ]
    },
    {
      "cell_type": "markdown",
      "source": [
        "## [2] Operators\n",
        "\n",
        "* Symbols that perform operations on values and variables. \n",
        "* They are used to perform arithmetic and logical operations, and they can also be used to manipulate and compare values. "
      ],
      "metadata": {
        "id": "5JgA2T2dRft5"
      }
    },
    {
      "cell_type": "markdown",
      "source": [
        "1. Arithmetic Operators: +, -, *, /, %, ** (for exponentiation)\n",
        "2. semicolon ';' - separate multiple statements (code lines) on a single line."
      ],
      "metadata": {
        "id": "NJBgu_O4bczL"
      }
    },
    {
      "cell_type": "code",
      "source": [
        "x = 2; y = 5\n",
        "\n",
        "a1 = x + y\n",
        "a2 = x - y\n",
        "a3 = x * y\n",
        "a4 = x / y\n",
        "a5 = x ** y"
      ],
      "metadata": {
        "id": "dXT3pIzobUHU"
      },
      "execution_count": 13,
      "outputs": []
    },
    {
      "cell_type": "code",
      "source": [
        "print(a1, a2, a3, a4, a5)"
      ],
      "metadata": {
        "colab": {
          "base_uri": "https://localhost:8080/"
        },
        "id": "_m3JBsOKd6Uv",
        "outputId": "fec77525-0589-4908-ec91-71ec4eb2f475"
      },
      "execution_count": 14,
      "outputs": [
        {
          "output_type": "stream",
          "name": "stdout",
          "text": [
            "7 -3 10 0.4 32\n"
          ]
        }
      ]
    },
    {
      "cell_type": "code",
      "source": [
        "print(\"The value of a2:\", a2)"
      ],
      "metadata": {
        "colab": {
          "base_uri": "https://localhost:8080/"
        },
        "id": "5kq7I3nMd0Xi",
        "outputId": "fff10612-a3c6-4aeb-d8ce-f92150bc3e00"
      },
      "execution_count": 16,
      "outputs": [
        {
          "output_type": "stream",
          "name": "stdout",
          "text": [
            "The value of a2: -3\n"
          ]
        }
      ]
    },
    {
      "cell_type": "markdown",
      "source": [
        "# 🌱 Define a function\n",
        "\n",
        "Demo 🔢 Calculator"
      ],
      "metadata": {
        "id": "Cx1NyWUAybc8"
      }
    },
    {
      "cell_type": "code",
      "source": [
        "# This function adds two numbers\n",
        "def add(x, y):\n",
        "    return x + y\n",
        "\n",
        "# This function subtracts two numbers\n",
        "def subtract(x, y):\n",
        "    return x - y\n",
        "\n",
        "# This function multiplies two numbers\n",
        "def multiply(x, y):\n",
        "    return x * y\n",
        "\n",
        "# This function divides two numbers\n",
        "def divide(x, y):\n",
        "    return x / y\n"
      ],
      "metadata": {
        "id": "Dod3_zgYdsWe"
      },
      "execution_count": 17,
      "outputs": []
    },
    {
      "cell_type": "markdown",
      "source": [
        "argument  괄호안에 들어가는것.변수. 함수에따라 필요로하는것 달라짐\n",
        "def=define 함수정의할때"
      ],
      "metadata": {
        "id": "crYuycsfMLVF"
      }
    },
    {
      "cell_type": "code",
      "source": [
        "# DIY: define a function names switch(x, y), where the input x, y changes its position in the output."
      ],
      "metadata": {
        "id": "W9CuAaqXgwb5"
      },
      "execution_count": null,
      "outputs": []
    },
    {
      "cell_type": "code",
      "source": [
        "# Test\n",
        "\n",
        "add(2,3)\n",
        "subtract(3,2)\n",
        "# multiply(2,3)\n",
        "# divide(3,2)\n"
      ],
      "metadata": {
        "id": "IoHh-U2GBsqH",
        "outputId": "e43ade8e-22fe-4977-8b4f-d144e878f6fb",
        "colab": {
          "base_uri": "https://localhost:8080/"
        }
      },
      "execution_count": 24,
      "outputs": [
        {
          "output_type": "execute_result",
          "data": {
            "text/plain": [
              "1"
            ]
          },
          "metadata": {},
          "execution_count": 24
        }
      ]
    },
    {
      "cell_type": "code",
      "source": [
        "add(1330,20)"
      ],
      "metadata": {
        "colab": {
          "base_uri": "https://localhost:8080/"
        },
        "id": "aTuloo6GMp9O",
        "outputId": "916a9ff6-d28b-45a3-cd26-4552250e131d"
      },
      "execution_count": 18,
      "outputs": [
        {
          "output_type": "execute_result",
          "data": {
            "text/plain": [
              "1350"
            ]
          },
          "metadata": {},
          "execution_count": 18
        }
      ]
    },
    {
      "cell_type": "markdown",
      "source": [
        "## Using dropbox format"
      ],
      "metadata": {
        "id": "eOluPoNqCCE1"
      }
    },
    {
      "cell_type": "code",
      "source": [
        "!pip install gTTS\n",
        "from gtts import gTTS\n",
        "from IPython.display import Audio\n",
        "def tts(text):\n",
        "  gtts_object = gTTS(text,lang = \"en\", slow = True) \n",
        "  gtts_object.save(\"myaudio.mp3\")\n",
        "  return Audio(\"myaudio.mp3\")"
      ],
      "metadata": {
        "colab": {
          "base_uri": "https://localhost:8080/"
        },
        "id": "RUCq5D3INghF",
        "outputId": "193db38d-e96b-4a71-b380-29fffa573f34"
      },
      "execution_count": 29,
      "outputs": [
        {
          "output_type": "stream",
          "name": "stdout",
          "text": [
            "Looking in indexes: https://pypi.org/simple, https://us-python.pkg.dev/colab-wheels/public/simple/\n",
            "Requirement already satisfied: gTTS in /usr/local/lib/python3.9/dist-packages (2.3.1)\n",
            "Requirement already satisfied: requests<3,>=2.27 in /usr/local/lib/python3.9/dist-packages (from gTTS) (2.27.1)\n",
            "Requirement already satisfied: click<8.2,>=7.1 in /usr/local/lib/python3.9/dist-packages (from gTTS) (8.1.3)\n",
            "Requirement already satisfied: certifi>=2017.4.17 in /usr/local/lib/python3.9/dist-packages (from requests<3,>=2.27->gTTS) (2022.12.7)\n",
            "Requirement already satisfied: idna<4,>=2.5 in /usr/local/lib/python3.9/dist-packages (from requests<3,>=2.27->gTTS) (3.4)\n",
            "Requirement already satisfied: urllib3<1.27,>=1.21.1 in /usr/local/lib/python3.9/dist-packages (from requests<3,>=2.27->gTTS) (1.26.15)\n",
            "Requirement already satisfied: charset-normalizer~=2.0.0 in /usr/local/lib/python3.9/dist-packages (from requests<3,>=2.27->gTTS) (2.0.12)\n"
          ]
        }
      ]
    },
    {
      "cell_type": "markdown",
      "source": [
        "gTTs 설치하고 from gtts import gTTS이하 코드붙혀야 음성나옴\n"
      ],
      "metadata": {
        "id": "NTY3-LtaO_EG"
      }
    },
    {
      "cell_type": "code",
      "source": [
        "func = \"multiply\" #@param = [\"add\",\"subtract\",\"multiply\",\"divide\"]\n",
        "digits = input(\"Type two numbers: (e.g., 3,4)\")\n",
        "digitsplit = digits.split(',')\n",
        "d1 = int(digitsplit[0])\n",
        "d2 = int(digitsplit[1])\n",
        "\n",
        "if func == \"add\":\n",
        "  result = add(d1,d2)\n",
        "  text = \"The addition of %d and %d equals %d.\"%(d1,d2,result)\n",
        "elif func == \"subtract\":\n",
        "  result = subtract(d1,d2)\n",
        "  text = \"If you subtract %d from %d, you get %d.\"%(d2,d1,result)\n",
        "elif func == \"divide\":\n",
        "  result = divide(d1,d2)\n",
        "  text = \"When you divide %d by %d, you get %d.\"%(d1,d2,result)\n",
        "elif func == \"multiply\":\n",
        "  result = multiply(d1,d2)\n",
        "  text = \"%d multiplied by %d is %d.\"%(d1,d2,result)\n",
        "\n",
        "print(text)\n",
        "tts(text)\n",
        "Audio(\"myaudio.mp3\")"
      ],
      "metadata": {
        "cellView": "form",
        "id": "FT47bY6qBo3k",
        "colab": {
          "base_uri": "https://localhost:8080/",
          "height": 111
        },
        "outputId": "cd549bda-f231-4f40-e4bc-208d59931589"
      },
      "execution_count": 33,
      "outputs": [
        {
          "output_type": "stream",
          "name": "stdout",
          "text": [
            "Type two numbers: (e.g., 3,4)3,4\n",
            "The addition of 3 and 4 equals 7.\n"
          ]
        },
        {
          "output_type": "execute_result",
          "data": {
            "text/plain": [
              "<IPython.lib.display.Audio object>"
            ],
            "text/html": [
              "\n",
              "                <audio  controls=\"controls\" >\n",
              "                    <source src=\"data:audio/mpeg;base64,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\" type=\"audio/mpeg\" />\n",
              "                    Your browser does not support the audio element.\n",
              "                </audio>\n",
              "              "
            ]
          },
          "metadata": {},
          "execution_count": 33
        }
      ]
    },
    {
      "cell_type": "markdown",
      "source": [
        "More operators: <br>\n",
        "* Comparison Operators: ==, !=, <, >, <=, >= <br>\n",
        "* Assignment Operators: =, +=, -=, *=, /=, %= <br>\n",
        "* Logical Operators: and, or, not <br>\n",
        "* Identity Operators: is, is not <br>\n",
        "* Membership Operators: in, not in "
      ],
      "metadata": {
        "id": "sfubu24UbqjH"
      }
    },
    {
      "cell_type": "markdown",
      "source": [
        "# 📗Topic [3] Data types: number, string, list and dictionary\n"
      ],
      "metadata": {
        "id": "3eSrUoglRh6-"
      }
    },
    {
      "cell_type": "markdown",
      "source": [
        "\n",
        "|Data type| |\n",
        "|:--:|:--:|\n",
        "|number|int, float|\n",
        "|string|charcter|\n",
        "|list|[1, 2,4], ['Mary','Tom','Jane'|\n",
        "|dictionary|(key: value), [('English': 80), ('Korean':90)]|\n",
        "|tuple|('zero', 0)|\n"
      ],
      "metadata": {
        "id": "ZVFb5JmJrPXu"
      }
    },
    {
      "cell_type": "markdown",
      "source": [
        "list: 하나 이상의 데이터터"
      ],
      "metadata": {
        "id": "NII_WC6zP0jd"
      }
    },
    {
      "cell_type": "code",
      "source": [
        "a1 = 3   # a1 is integer\n",
        "a2 = 3.0 # a2 is float\n",
        "a3 = \"3\" # a3 is string\n",
        "\n",
        "type(a1); type(a2); type(a3)\n",
        "# print(type(a1), type(a2), type(a3))"
      ],
      "metadata": {
        "colab": {
          "base_uri": "https://localhost:8080/"
        },
        "id": "g-kvldqENA1e",
        "outputId": "7ac463bc-4877-4e58-ed5d-d31a0c38b8c3"
      },
      "execution_count": null,
      "outputs": [
        {
          "output_type": "stream",
          "name": "stdout",
          "text": [
            "<class 'int'> <class 'float'> <class 'str'>\n"
          ]
        }
      ]
    },
    {
      "cell_type": "markdown",
      "source": [
        "list and index (0, 1, 2,...)"
      ],
      "metadata": {
        "id": "HC_wMsPnNbzs"
      }
    },
    {
      "cell_type": "code",
      "source": [
        "a = [1, \"Mary\", 4, \"John\"]  # This is a list.\n",
        "print(type(a))\n",
        "\n",
        "# a+a"
      ],
      "metadata": {
        "colab": {
          "base_uri": "https://localhost:8080/"
        },
        "id": "LyTw7phONZHE",
        "outputId": "83d4774e-e70f-4afe-9870-4c95d1d73241"
      },
      "execution_count": 34,
      "outputs": [
        {
          "output_type": "stream",
          "name": "stdout",
          "text": [
            "<class 'list'>\n"
          ]
        }
      ]
    },
    {
      "cell_type": "markdown",
      "source": [
        "* index: Python index starts from '0'\n",
        "\n",
        "e.g., a = [1, 2, 3, 4] \n",
        "0번째~3번째째"
      ],
      "metadata": {
        "id": "-fL-pJvj7NW8"
      }
    },
    {
      "cell_type": "code",
      "source": [
        "a[0]\n",
        "type(a[0])\n",
        "type(a[1])\n",
        "a[0] + a[2]\n",
        "a[0] + a[1]"
      ],
      "metadata": {
        "id": "9Z5zLDGc7X13",
        "outputId": "19031af8-79f2-49c8-95e6-6d5dae711d50",
        "colab": {
          "base_uri": "https://localhost:8080/",
          "height": 248
        }
      },
      "execution_count": 2,
      "outputs": [
        {
          "output_type": "error",
          "ename": "NameError",
          "evalue": "ignored",
          "traceback": [
            "\u001b[0;31m---------------------------------------------------------------------------\u001b[0m",
            "\u001b[0;31mNameError\u001b[0m                                 Traceback (most recent call last)",
            "\u001b[0;32m<ipython-input-2-7c2a495ff754>\u001b[0m in \u001b[0;36m<module>\u001b[0;34m\u001b[0m\n\u001b[0;32m----> 1\u001b[0;31m \u001b[0ma\u001b[0m\u001b[0;34m[\u001b[0m\u001b[0;36m0\u001b[0m\u001b[0;34m]\u001b[0m\u001b[0;34m\u001b[0m\u001b[0;34m\u001b[0m\u001b[0m\n\u001b[0m\u001b[1;32m      2\u001b[0m \u001b[0mtype\u001b[0m\u001b[0;34m(\u001b[0m\u001b[0ma\u001b[0m\u001b[0;34m[\u001b[0m\u001b[0;36m0\u001b[0m\u001b[0;34m]\u001b[0m\u001b[0;34m)\u001b[0m\u001b[0;34m\u001b[0m\u001b[0;34m\u001b[0m\u001b[0m\n\u001b[1;32m      3\u001b[0m \u001b[0mtype\u001b[0m\u001b[0;34m(\u001b[0m\u001b[0ma\u001b[0m\u001b[0;34m[\u001b[0m\u001b[0;36m1\u001b[0m\u001b[0;34m]\u001b[0m\u001b[0;34m)\u001b[0m\u001b[0;34m\u001b[0m\u001b[0;34m\u001b[0m\u001b[0m\n\u001b[1;32m      4\u001b[0m \u001b[0ma\u001b[0m\u001b[0;34m[\u001b[0m\u001b[0;36m0\u001b[0m\u001b[0;34m]\u001b[0m \u001b[0;34m+\u001b[0m \u001b[0ma\u001b[0m\u001b[0;34m[\u001b[0m\u001b[0;36m2\u001b[0m\u001b[0;34m]\u001b[0m\u001b[0;34m\u001b[0m\u001b[0;34m\u001b[0m\u001b[0m\n\u001b[1;32m      5\u001b[0m \u001b[0ma\u001b[0m\u001b[0;34m[\u001b[0m\u001b[0;36m0\u001b[0m\u001b[0;34m]\u001b[0m \u001b[0;34m+\u001b[0m \u001b[0ma\u001b[0m\u001b[0;34m[\u001b[0m\u001b[0;36m1\u001b[0m\u001b[0;34m]\u001b[0m\u001b[0;34m\u001b[0m\u001b[0;34m\u001b[0m\u001b[0m\n",
            "\u001b[0;31mNameError\u001b[0m: name 'a' is not defined"
          ]
        }
      ]
    },
    {
      "cell_type": "markdown",
      "source": [
        "a[0] + a[1] :에러 \n",
        "str과 number는 더할 수 없음\n"
      ],
      "metadata": {
        "id": "QgyyaDpbQhqF"
      }
    },
    {
      "cell_type": "markdown",
      "source": [
        "[Github accounts](https://raw.githubusercontent.com/MK316/Spring2023/main/DL/files/DL_github.csv)"
      ],
      "metadata": {
        "id": "S-KG49Zaim0S"
      }
    },
    {
      "cell_type": "markdown",
      "source": [
        "\n",
        "\n",
        "---\n",
        "# The End\n"
      ],
      "metadata": {
        "id": "3cZjH9xIiN4_"
      }
    }
  ]
}