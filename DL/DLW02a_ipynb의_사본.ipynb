{
  "nbformat": 4,
  "nbformat_minor": 0,
  "metadata": {
    "colab": {
      "provenance": [],
      "include_colab_link": true
    },
    "kernelspec": {
      "name": "python3",
      "display_name": "Python 3"
    },
    "language_info": {
      "name": "python"
    }
  },
  "cells": [
    {
      "cell_type": "markdown",
      "metadata": {
        "id": "view-in-github",
        "colab_type": "text"
      },
      "source": [
        "<a href=\"https://colab.research.google.com/github/gnudahyeon/DL23/blob/main/DL/DLW02a_ipynb%EC%9D%98_%EC%82%AC%EB%B3%B8.ipynb\" target=\"_parent\"><img src=\"https://colab.research.google.com/assets/colab-badge.svg\" alt=\"Open In Colab\"/></a>"
      ]
    },
    {
      "cell_type": "markdown",
      "source": [
        "# 🌳 **Digital Literacy & English Education** (Week 02): \n"
      ],
      "metadata": {
        "id": "fkVkXhLoOGMz"
      }
    },
    {
      "cell_type": "markdown",
      "source": [
        "# Part I. Basic learning\n",
        "\n",
        "Keywords\n",
        "\n",
        "[1] Text-to-Speech **API**: gTTs (Google Text-to-Speech)\n"
      ],
      "metadata": {
        "id": "IvUpe_2Gyzl5"
      }
    },
    {
      "cell_type": "markdown",
      "source": [
        "---\n",
        "# 📗Topic [1]: API (Application Programming Interface)\n",
        "---\n"
      ],
      "metadata": {
        "id": "8zK741dhxPaI"
      }
    },
    {
      "cell_type": "markdown",
      "source": [
        "## Demo {gTTS}"
      ],
      "metadata": {
        "id": "tnPzrIkJqIeH"
      }
    },
    {
      "cell_type": "markdown",
      "source": [
        "**gtts 함수 정의**"
      ],
      "metadata": {
        "id": "wwaChYyqv0gI"
      }
    },
    {
      "cell_type": "code",
      "source": [
        "#@markdown 🔄 [1] Making functions (sample): tts(text)\n",
        "%%capture\n",
        "!pip install gTTS\n",
        "from gtts import gTTS\n",
        "from IPython.display import Audio\n",
        "\n",
        "def tts(text):\n",
        "  gtts_object = gTTS(text,lang = \"en\", slow = True) \n",
        "  gtts_object.save(\"myaudio.mp3\")\n",
        "  return Audio(\"myaudio.mp3\")"
      ],
      "metadata": {
        "id": "7zQxQn04qiyD"
      },
      "execution_count": null,
      "outputs": []
    },
    {
      "cell_type": "markdown",
      "source": [
        "slow = True (느리게\n",
        "     = False (빠르게\n",
        "    "
      ],
      "metadata": {
        "id": "9QfLsY4euDFa"
      }
    },
    {
      "cell_type": "code",
      "source": [
        "# [2] Try it yourself\n",
        "tts('Hello students')"
      ],
      "metadata": {
        "id": "zxYC8qxTrAaw",
        "outputId": "b0345e9c-0db8-4ac8-d0a4-5470b0e245ca",
        "colab": {
          "base_uri": "https://localhost:8080/",
          "height": 74
        }
      },
      "execution_count": null,
      "outputs": [
        {
          "output_type": "execute_result",
          "data": {
            "text/plain": [
              "<IPython.lib.display.Audio object>"
            ],
            "text/html": [
              "\n",
              "                <audio  controls=\"controls\" >\n",
              "                    <source src=\"data:audio/mpeg;base64,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\" type=\"audio/mpeg\" />\n",
              "                    Your browser does not support the audio element.\n",
              "                </audio>\n",
              "              "
            ]
          },
          "metadata": {},
          "execution_count": 2
        }
      ]
    },
    {
      "cell_type": "markdown",
      "source": [
        "[😉Emoji collection](https://gist.github.com/rxaviers/7360908)"
      ],
      "metadata": {
        "id": "xs5dHySeAHi3"
      }
    },
    {
      "cell_type": "code",
      "source": [
        "#@markdown 🐧 [3] Better way? (Using a pop-up window)\n",
        "mytext = input(\"Type text to generate audio: \")\n",
        "\n",
        "tts(mytext)"
      ],
      "metadata": {
        "id": "y9lmqAV-rWSF",
        "colab": {
          "base_uri": "https://localhost:8080/",
          "height": 92
        },
        "outputId": "69de1086-6103-4a0d-8f13-3641e0b71ff1"
      },
      "execution_count": null,
      "outputs": [
        {
          "name": "stdout",
          "output_type": "stream",
          "text": [
            "Type text to generate audio: hi everyone\n"
          ]
        },
        {
          "output_type": "execute_result",
          "data": {
            "text/plain": [
              "<IPython.lib.display.Audio object>"
            ],
            "text/html": [
              "\n",
              "                <audio  controls=\"controls\" >\n",
              "                    <source src=\"data:audio/mpeg;base64,//NExAAAAANIAUAAAP8teus8QmVf7jyCGnl/5Xblb/8gfEkRj/MHCEEA2LQAP557hKkfL//kzXP/89/PMOdTv/t/Gxg7PZf///+xpRtzP//T1gBhVNiENe042wobc8rs//NExFMROlZUAZk4APw4F+NHU6jXpkUWBxIWLYAcFhfOKfV7JBIarijA0wkZoP4keJnUSJXce+obO/tejyHe938e13mV2r1eh63EpNi1Ker/DyIwPNXf4hw+3s955YEG//NExGEgkkJgAc94AD4vumfm/v9YpE+NYn/+bavi97U18UiAQM3dHZ61mcMF5SoFlYI8MZNZ+dCscLonTVjVljGGkT+OQqT6XZP1IsI981oBFrtzwi2Jkw2TZhw7wZ7S//NExDEdOmZ8AEvMuL+0atNxYFaep50tI4pUXOXCPYu93DFdWGKMEBZBnMeee56aGoFZ9qEubdvaOZnxsemjxHfLy5SQtY8K/SUiChgYW/oRD+TQ2eM5i0mzrCyKi+xJ//NExA8Wab6UABsGlABwUeJ7JyXnBAOimPx3ULyUkTnb+s/SY/eJ0edGyOMKFxkEokCZOfvzZZ9CiBLKOiK1ER4ECZIH2moCeYPJaJHPYeQlZlv++6p3WoulIAITRHzD//NExAgUUXKcAGMKlDsom1oEQ/pDxXxghm4ThYkW1TMRYVhOH9OEqzqLDD9mUWmdxEyvdU40SPFmAQPop1ymbrMguGQCSHmB7YwJigplaulTUHpLZ/rq7z5qeBByg2uW//NExAkU2SqoAMYicFhSO73YWY1RoBH0jMReIGvAR2/h1pQXIRFdqMPjHAtWAqxH5OjiJQZAtkMNzFMnDBr3TrrTdS6je1aCCKR9MLus/sWhVIIHFI9dFUdEpAUgHvNl//NExAgTqcKwAJ4KlOBDA0TVVboZDvXT3bo7EwGZfPy92h1AleKUnLIAaRW3R00LLrNWp9bwh/PUTDlsRHvyD22CY95xogy6P7t6v7/00HEar69Kd6zgJ4J8XWiHfSA3//NExAwTySq0AJZecM5BQFeIi5d9VLUzKx4OLV6ZfRglJmV/bGYGUeaoalKT0CdCV216rib7zWLE+M1aon+H0Pfx4T+JsFQUruW5/EyvHuRVQVrBrCUTlzoro+CMbynE//NExA8VCSqwAIYecN4wUGgbztDAz1Rfkgjkfsr7aR94B3CwhG0P3trVAGnBYJoTEwqufWILBm/+HrPE1WDI3x8VfZFDgddnuEDAHebM6/Ut9Sr0R1AXxVfJgRgRonK9//NExA0TSSK0AI4YcDQ80oALQPqZ0gXAGODgP3cpqrgt6T79YeSKP9Z8qgCiWDQmV/UxLLZ5LzS84WS3aphXIGly0BvWQr61WoYz3fRVZ+YgUtB1qRgpBMJApeZRJSoy//NExBISQSa0AJYSccEIL37paZmUb7zdZoiMf0qKVEb7VZVBEG1vNCmJRPO4poVmspERIzAjNwKJT8ncM57uu4u2j1xJ9SIIdFEZ2TGMBAAE9MDFz5cAgA5KTUEExOT///NExBwScT6wAJSYcBYWpmZ26b8mZsTYt7S4JAKqeo2SxLJKj+YwqE06hnschrNhZuCUDoOXglyOvkm53/rJaBmYdw7EFthUhqSuG3STbsr2s5Zxt24Kjsu7hjbwRNbD//NExCUR6S60AMYScDYyzLqvFzCday20ICcsAchPuaZhKKsJw60aBUiXV73yjTVC3+9R0vkuGL5SoLFGNKEJhFaWNkQVf6/YlEG1M+UlPctZZ5uOauFbt4aaRHIZCxDC//NExDAR6S60AM4QcELCAOCBDY5rcqiIYcNYXEgSr1I45VQrRcP/Bu4lWQz1xkYDsupfjhmA9R+zSk7OZ9hvT7FfcBge2tCEYxmvKNrr3KoQTWgZFY+OAGOORrduVJ6+//NExDsRoS60AMPScHLs0gMgsy6j6WMQtcNf0lK6v8CwgVJtpa0Q1EA1mTQ2XvHi2rsTZ3JuUj6Q93CYll/2jXzo0mblbmp2K1ngOIyc8TC6yiyUErcguSab18bn3Uhn//NExEcSiT60AMYScP3PC6q/wd4c0fS7BLLVFIKIc6j4qulZAsowfiRXYnFpblUlHefrMYIE0LEGGjYoKoiIjWAm5qHcjTD5ztbPCcV5ayFA3Gf/MH0V+cA4yGZ4UMNy//NExE8RWSq8AH4ScEiAbEUZZNOgElf2maQkjRZRBbtXDKG73cJbWaEab+ZqfEAKanVARPXaIrZde7Xoe28bvcdxV59SJSUSi6F4rqFTCJB2uSqlYWENjLJNBFoBEeSV//NExFwSwSq0AH4YcHI9C7hMrUwFZR6ik+PHyog1sRExH9SyactROFW1thxYgTpha35Pu9Y0W6kcvVQ+sVucqlt963L6zoCBoe79T7csd7Vswuww2VJbmQKBjXXBhpqD//NExGQUeRqkAMvecI1FGdBxLpVOnyHRmtDZqp05nbheuEoIgd0uiKsJyWrtpW9l61nWrfA25jLrQOuX//sCT/9dLzdDgHkAqXV1CgWC2Bh0AmYMKMB7tiRU+AOXSyY5//NExGURqQKMAMvYcHLfc47kZKxDq2j0PYbiYTLP2uuSpQnCOL6CQg67QH9/ac0o2i8zdggwLgaaUsGE0qS3YqR/3ItPIiDunXQiQkK15g3zfiTxbRAiMTnkZ9hREKZ1//NExHER+Pp8AHjGcNhBio95zUTY1Uo1yQYM6llJ+5asnsWU2iBJ8LiApSYU5Bg4KVQ5VRYF8k8eEXwWPccgRH+LQnS174hA/UAslF3eTXw6u+bunwtw/Sr+LpyyJYMz//NExHwTOV6IAEjGlEaeYPOcSeWMTwBoDJaKgFQZZp2kbsr/5F+nnmKrAQ4shuRZtyMVYQMzRkEQIcyAron214q3KFSuo+oheGLrymkbZgkPMjjwJuD5yNnLtLlD1Vks//NExIITuQaUAHmMcIDAmo0QDUBiJ1liJ+fOtz+DTObPtlyN/rWIt0NdPSH+yaLg6U7f//6v1YtunawYjHRWMHunzBIBMDUkFD1KzBVQzADs8V6jsaaEj1JRksvS7Mlg//NExIYXOPaIANYecCMaYHTT99oxkbNrXcUgCCxLTKOkEEQOxkkumJZLr2WVF//mnVuR+3////TsR6mE1ei87oxgmO6f///90siizlTPTBVVDWPPGBhgy+qSTisPiIUM//NExHwZgfKEAOZKmEgGKU8UIZs1w7myn634JR/vNwHjlUTo3ICdNQp+jKgwkCT0ACBADopJBmBeciiLdlQ3q/+v///39+aRPDMQuLuolVSzDxlAKRCURVUMRFzzltGm//NExGkVwb6QAN4UlEUYEBU6knxslzZHzddrWdXB94e/6jYqP/qNUhdiXWG7rpf2AmQJfrUd+urOGGxiSgCrAbZuOwIoWIGQ9CUdbs/bp+vUgr+pqkEGSqQW9V2d1rqn//NExGUZoe6QAN4amFS1nL3zJlTkWp50wusmlOfUYWHehPfsLWv8yiOPO0l7f15fZmW2ezDg++YDJdYkFkBQjMBIBJkpAUAaAMb3YHasTlWvKER5qfo4xQoEEHFZdYJC//NExFEUiRqcANYYcFSquXsktDTBNktAXvMGxUnpO5AquNkxXUrZfJ/1EIt3P5djlKJD3cFdWGAkHMSxmNbicTB2VM8lJtvFQVGzug1JvwrrWMR5LpYkYLDu1UGqSpkU//NExFETYQ6QAN5YcAZIgGkg8LcgEl4rjExqnVdGYUIDaKnXzCrVIzyljbYF6OU6C1y+lC7Dtu4UzeoVExqmlmJyzCpLFt/63u9m3GxizAAoF/+maFWr6Hf/////qmks//NExFYU8P6AAN7ecBnRAqMB0Nfz9GGG4LhQMTIikgOc6iDxG7m1dWrKnQkC2cAKoePC4SvFHGQ8+X5UuqbxIFzjAAcY1gu0wwNI0//W72N//////RVW5qcVMBByeubO//NExFUSmJp0AN7wTM/MAUjoCdbyeSUB3BsnTFnTGhOQ7cIwUDcKleB7LVncP6zzoQrMCBVfql0XUQmJe+eYlVP7Lnr///////9SLOsehwGokPAyhab4XURjEfocwMKz//NExF0R6O50AN7EcAQsjiwPARUUvQdAAEgdRpG0yeEmq0k0pKnnIDpo3ZzhpTC4TZLFInUZxtY0WH6pXsdzV6N01Vbpt/AKdwU3nPqEQHDNWuhNgwuDjmq9Ghs10YEC//NExGgSqNZsAOcKcE5jy7xkAd48LAJQz9HOLYy3C1Ym4H/eVb/3b7vW//YH2ecOahH/Ta6ZJz+zKcWRTjv9FapaMoujJ9Gi9RS0gFJmkFJarpMDrM5Sih4LN2EWw1a///NExHAUCXp8AOaElEo2BOD1XVKlMFjxwSBKILgrvlEErTc//fTe/q394Sj+asXoR8B5d4+vT+/suLGiOYaQIl8TMYeW9AsP3HuIuXsqkSnDdcUjiUOW3QIEJnbY42ZT//NExHIYeYKEAOZQlBm7CrgtAU8PGItKhSkKgJE8QJZmQDpUsvC8UBZ2h0qCDd+60+xhdkXfrb5+rb0DMKJhNcjavkSg7KGsdQ9kE1McDuLgOAkE3E7PsYTVs68cKj0P//NExGMXEX6QANaKlB4QkhovAcuGAwaPmLaT4lBT0wqEJaWdigoYHE4Qv0nrXVmSAp0XeRh1Md0tv9Sqx/zSeD+GI1J/X+fmfB0oCM9qucZCwwAoCAyw3rv+r62XYzBU//NExFkVMX6cANZGlB5WZl9ImUGR3dgKVFJJXdSCRcMslayhA1v5hqoiMwSKwaVHMMjErMWwU9e9ZuMbl/amf6t289ChCYUzgVE4fr/D7D6DEeCGzoouKRMDLFumRdWa//NExFcVMXqgANYGlMSBAgqW5fGOOvMP+BokV+dGVNfp3Se4jXTymGAqWXymIKXIwXKZEEONe7DKwk5rKNXufct5i1i7Qr6NydXqM6TDuoLqEk0gBuFv99tFKsOZuACz//NExFUT2U6kAMYElGKX5SYNb6RWaJICjqzgwIXXRafEexC7O1okQ6erDpEW5NPWWxkdqbrBhJzOkbzD9SpqBJmYRJaM9tG6WQSZpX4zReoo4T1++/6/////04Z+lYEf//NExFgUuYKgAM4KlCO50shsOwFiaaUjOAvXP9ekQKn6WSAWDJK+WZFKlpZIpva31sDQ692AAYuW3aZY/amoiFPYb3Icn1475Hf2nqZzlvCip9cjniSVgFjAG/Jf/s////NExFgWwWKYAM4QlP/2a41XuM9MRyQ5wQQ/CQcisjqAvnJ+cGCZZzF61GO4SVwLeN+9P/hiQeqKYIdp5oSFg3WCs4/hff8/tsorGLPLOHDX64Mf/6VqNrOSGAjrXlFI//NExFARcO6cAM5ecGZBHFEoXs1BLR2jLfkGbRFaKaoz1Tix919YG3qJRbHKoR5lgdFlrEEKe7HmgQ3BIMaZbdBUr/6EKoKoJSnsYdENKolphwad2iOHdHJCzo01rLAQ//NExF0QiMaQANZYcGOOspFF7HCf1mv5QVP4ASW7GCcz1MTUVf5U+5mP4m/auRWAz/9KKkM3Ih9vDNwgaYKZkQIFh98MgAmRkgGya8WOwkFEuo4kdcT4rpXb+IZCagOY//NExG0QEUKEANwQcHD6DqK9ajsdUlCsnq6df//+0Ywyed/1gX8nRxb2SDACYjig7JU5LyJxGiywKiYZYJUJc6wXYMharrTnn5gqGnySqcBMHyTNk3WRr2VwhwwWnuq///NExH8ReT6EANvQcKr9r6YoHWM/9zkck/QqXM3rxJpmHJ+OCFpA6BE9jBq7MyAFqa4lE4QVHOgG1TzUzEvA76D9WGihDlMGAjGC4vuOlZZnIA5bT2Svj1iY4CLG/94Z//NExIwRiT58ANvQcDokT2vpEYW0+GmRGRc5iYEpoycuyYJMg8AU0NKFosrOP1oVHiiOffyn16nKNKsFAQ8t8QIPlevOe/JHFX/et3/fe0bWkAk//7ydFiKgtRABLKa6//NExJgSgSpwAOPKcN8YhDnaA0HJBF+DBDU0AjeWFcfGT4irxxAKRYq4z2xW2FTjFIFE2XGzoPD47bk4XyK9o1v3+ef4+ZT8ol/+k44fNpCRVQCsNNJWrWMzE9G1cRtj//NExKESKUJsANsMcErlhReJ53dmkdF0jiB1yNbS2dba2nLNLXZsdRnMTXW/qqpEzBSAh1i7alP7G8woDjH/+Sp7Q7JKCUiYQTaD6HCKOIrhAYl4MLQnCMjCA4DByKSc//NExKsSYUJgANsMcII5CyOciknII4KScsjkawuzr/////36OzW7I5CyO7OrsQw4CCHAQQ4CDGFBUFBSFBnEhnGBsFSISApEKgIkFQCRCQFFQKIgkBSAVARIGRKwYSCg//NExLQRWUpMAMsGlBWf+WYMQywYgVKkQkaYP1///HoVTEFNRTMuMTAwVVVVVVVVVVVVVVVVVVVVVVVVVVVVVVVVVVVVVVVVVVVVVVVVVVVVVVVVVVVVVVVVTEFNRTMu//NExMEO+HHsADDGSTEwMFVVVVVVVVVVVVVVVVVVVVVVVVVVVVVVVVVVVVVVVVVVVVVVVVVVVVVVVVVVVVVVVVVVVVVVVVVVVVVVVVVVVVVVVVVVVVVVVVVVTEFNRTMu//NExNgRUGHMABDGKDEwMFVVVVVVVVVVVVVVVVVVVVVVVVVVVVVVVVVVVVVVVVVVVVVVVVVVVVVVVVVVVVVVVVVVVVVVVVVVVVVVVVVVVVVVVVVVVVVVVVVVTEFNRTMu//NExKwAAANIAAAAADEwMFVVVVVVVVVVVVVVVVVVVVVVVVVVVVVVVVVVVVVVVVVVVVVVVVVVVVVVVVVVVVVVVVVVVVVVVVVVVVVVVVVVVVVVVVVVVVVVVVVVTEFNRTMu//NExKwAAANIAAAAADEwMFVVVVVVVVVVVVVVVVVVVVVVVVVVVVVVVVVVVVVVVVVVVVVVVVVVVVVVVVVVVVVVVVVVVVVVVVVVVVVVVVVVVVVVVVVVVVVVVVVVTEFNRTMu//NExKwAAANIAAAAADEwMFVVVVVVVVVVVVVVVVVVVVVVVVVVVVVVVVVVVVVVVVVVVVVVVVVVVVVVVVVVVVVVVVVVVVVVVVVVVVVVVVVVVVVVVVVVVVVVVVVVTEFNRTMu//NExKwAAANIAAAAADEwMFVVVVVVVVVVVVVVVVVVVVVVVVVVVVVVVVVVVVVVVVVVVVVVVVVVVVVVVVVVVVVVVVVVVVVVVVVVVVVVVVVVVVVVVVVVVVVVVVVVTEFNRTMu//NExKwAAANIAAAAADEwMFVVVVVVVVVVVVVVVVVVVVVVVVVVVVVVVVVVVVVVVVVVVVVVVVVVVVVVVVVVVVVVVVVVVVVVVVVVVVVVVVVVVVVVVVVVVVVVVVVVVVVVVVVV//NExKwAAANIAAAAAFVVVVVVVVVVVVVVVVVVVVVVVVVVVVVVVVVVVVVVVVVVVVVVVVVVVVVVVVVVVVVVVVVVVVVVVVVVVVVVVVVVVVVVVVVVVVVVVVVVVVVVVVVVVVVV//NExKwAAANIAAAAAFVVVVVVVVVVVVVVVVVVVVVVVVVVVVVVVVVVVVVVVVVVVVVVVVVVVVVVVVVVVVVVVVVVVVVVVVVVVVVVVVVVVVVVVVVVVVVVVVVVVVVVVVVVVVVV\" type=\"audio/mpeg\" />\n",
              "                    Your browser does not support the audio element.\n",
              "                </audio>\n",
              "              "
            ]
          },
          "metadata": {},
          "execution_count": 3
        }
      ]
    },
    {
      "cell_type": "markdown",
      "source": [
        "발음하는거 적어내게 시키고 싶을때 \n",
        "변수이름 = input(\" \")\n",
        "tts(변수이름) "
      ],
      "metadata": {
        "id": "l9q9ch5WvhY5"
      }
    },
    {
      "cell_type": "markdown",
      "source": [
        "## Expanding tts: ktts, etts, ftts"
      ],
      "metadata": {
        "id": "DzcryON4rIWC"
      }
    },
    {
      "cell_type": "code",
      "source": [
        "#@markdown 🔄 Making functions: etts('text'), ktts('text'), ftts('text')\n",
        "%%capture\n",
        "!pip install gTTS      # Installation\n",
        "from gtts import gTTS  # Import\n",
        "from IPython.display import Audio\n",
        "\n",
        "#######################\n",
        "def etts(text):\n",
        "  text_to_say = text\n",
        "\n",
        "  gtts_object = gTTS(text = text_to_say,\n",
        "                     lang = \"en\", tld = \"us\",\n",
        "                    slow = True)\n",
        "  \n",
        "  gtts_object.save(\"E-audio.mp3\")\n",
        "  return Audio(\"E-audio.mp3\")\n",
        "#######################\n",
        "\n",
        "def ktts(text):\n",
        "  text_to_say = text\n",
        "\n",
        "  gtts_object = gTTS(text = text_to_say,\n",
        "                     lang = \"ko\",\n",
        "                    slow = False)\n",
        "  \n",
        "  gtts_object.save(\"K-audio.mp3\")\n",
        "  return Audio(\"K-audio.mp3\")\n",
        "\n",
        "#######################\n",
        "\n",
        "def ftts(text):\n",
        "  text_to_say = text\n",
        "\n",
        "  gtts_object = gTTS(text = text_to_say,\n",
        "                     lang = \"fr\",\n",
        "                    slow = False)\n",
        "  \n",
        "  gtts_object.save(\"F-audio.mp3\")\n",
        "  return Audio(\"F-audio.mp3\")"
      ],
      "metadata": {
        "id": "SU2aSeFfp0wL"
      },
      "execution_count": null,
      "outputs": []
    },
    {
      "cell_type": "markdown",
      "source": [
        "text, lang, tld는 string \n",
        "slow는 bool(참.거짓)"
      ],
      "metadata": {
        "id": "uJ80psNqxL06"
      }
    },
    {
      "cell_type": "markdown",
      "source": [],
      "metadata": {
        "id": "o_xeVThMxGSh"
      }
    },
    {
      "cell_type": "code",
      "source": [
        "etts(\"Good morning!\")"
      ],
      "metadata": {
        "id": "r-sJG0E0A4i5",
        "colab": {
          "base_uri": "https://localhost:8080/",
          "height": 74
        },
        "outputId": "eb40e04a-e590-4ef1-e617-9cac4acfb704"
      },
      "execution_count": null,
      "outputs": [
        {
          "output_type": "execute_result",
          "data": {
            "text/plain": [
              "<IPython.lib.display.Audio object>"
            ],
            "text/html": [
              "\n",
              "                <audio  controls=\"controls\" >\n",
              "                    <source src=\"data:audio/mpeg;base64,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\" type=\"audio/mpeg\" />\n",
              "                    Your browser does not support the audio element.\n",
              "                </audio>\n",
              "              "
            ]
          },
          "metadata": {},
          "execution_count": 6
        }
      ]
    },
    {
      "cell_type": "code",
      "source": [
        "ktts(\"안녕하세요?\")"
      ],
      "metadata": {
        "id": "TcLnSC6tA9TO",
        "colab": {
          "base_uri": "https://localhost:8080/",
          "height": 74
        },
        "outputId": "584163d2-9d1d-46b3-a69e-e2d73e9867a2"
      },
      "execution_count": null,
      "outputs": [
        {
          "output_type": "execute_result",
          "data": {
            "text/plain": [
              "<IPython.lib.display.Audio object>"
            ],
            "text/html": [
              "\n",
              "                <audio  controls=\"controls\" >\n",
              "                    <source src=\"data:audio/mpeg;base64,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\" type=\"audio/mpeg\" />\n",
              "                    Your browser does not support the audio element.\n",
              "                </audio>\n",
              "              "
            ]
          },
          "metadata": {},
          "execution_count": 7
        }
      ]
    },
    {
      "cell_type": "code",
      "source": [
        "ftts(\"Bon jour!\")"
      ],
      "metadata": {
        "id": "jIFUGlrWA_yG",
        "outputId": "39b680da-a7d1-4f27-90ae-5fef56de9a79",
        "colab": {
          "base_uri": "https://localhost:8080/",
          "height": 74
        }
      },
      "execution_count": null,
      "outputs": [
        {
          "output_type": "execute_result",
          "data": {
            "text/plain": [
              "<IPython.lib.display.Audio object>"
            ],
            "text/html": [
              "\n",
              "                <audio  controls=\"controls\" >\n",
              "                    <source src=\"data:audio/mpeg;base64,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\" type=\"audio/mpeg\" />\n",
              "                    Your browser does not support the audio element.\n",
              "                </audio>\n",
              "              "
            ]
          },
          "metadata": {},
          "execution_count": 8
        }
      ]
    },
    {
      "cell_type": "markdown",
      "source": [
        "## Better way? Using dropbox selections"
      ],
      "metadata": {
        "id": "pXREmD2KtGH0"
      }
    },
    {
      "cell_type": "markdown",
      "source": [
        "gTTS documentation: [Reference link](https://gtts.readthedocs.io/en/latest/module.html)"
      ],
      "metadata": {
        "id": "SaL_K6V7tnYr"
      }
    },
    {
      "cell_type": "code",
      "source": [
        "Language = \"fr\" #@param = [\"en\", \"kr\",\"fr\"]\n",
        "\n",
        "mytext = input(\"Type text: \")\n",
        "if Language == \"en\":\n",
        "  etts(mytext)\n",
        "  myaudio = \"E-audio.mp3\"\n",
        "elif Language == \"kr\":\n",
        "  ktts(mytext)\n",
        "  myaudio = \"K-audio.mp3\"\n",
        "elif  Language == \"fr\":\n",
        "  ftts(mytext)\n",
        "  myaudio = \"F-audio.mp3\"\n",
        "\n",
        "Audio(myaudio)"
      ],
      "metadata": {
        "id": "EJ-IGFc-tKbA",
        "outputId": "857f0c76-f218-4981-e817-a8ab9b142441",
        "colab": {
          "base_uri": "https://localhost:8080/",
          "height": 92
        }
      },
      "execution_count": null,
      "outputs": [
        {
          "name": "stdout",
          "output_type": "stream",
          "text": [
            "Type text: bon jour\n"
          ]
        },
        {
          "output_type": "execute_result",
          "data": {
            "text/plain": [
              "<IPython.lib.display.Audio object>"
            ],
            "text/html": [
              "\n",
              "                <audio  controls=\"controls\" >\n",
              "                    <source src=\"data:audio/mpeg;base64,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\" type=\"audio/mpeg\" />\n",
              "                    Your browser does not support the audio element.\n",
              "                </audio>\n",
              "              "
            ]
          },
          "metadata": {},
          "execution_count": 12
        }
      ]
    },
    {
      "cell_type": "markdown",
      "source": [
        "elif = else if "
      ],
      "metadata": {
        "id": "zX7Y-9NuxwNC"
      }
    },
    {
      "cell_type": "markdown",
      "source": [
        "Task: Add French to the above code\n",
        "-대괄호 안에 \"fr\"추가 \n",
        "-if 제외 모두 elif 붙히고 나머지 양식 복붙+ fr로 고쳐서 추가가"
      ],
      "metadata": {
        "id": "RXyeIKz5BSkk"
      }
    },
    {
      "cell_type": "markdown",
      "source": [
        "# 📗 DIY\n",
        "Coding on Colab and save it to your github account"
      ],
      "metadata": {
        "id": "i9IKIzlcsy_g"
      }
    },
    {
      "cell_type": "markdown",
      "source": [
        "Installation, import libraries"
      ],
      "metadata": {
        "id": "QwcT_C9Ls4aW"
      }
    },
    {
      "cell_type": "code",
      "source": [
        "!pip install gTTS\n",
        "from gtts import gTTS\n",
        "from IPython.display import Audio"
      ],
      "metadata": {
        "id": "uQzV_2PFp8M6"
      },
      "execution_count": null,
      "outputs": []
    },
    {
      "cell_type": "markdown",
      "source": [
        "Defining a function"
      ],
      "metadata": {
        "id": "pRxcyqvhs7jt"
      }
    },
    {
      "cell_type": "code",
      "source": [
        "def tts(text):\n",
        "  gtts_object = gTTS(text,lang = \"en\", slow = True) \n",
        "  gtts_object.save(\"myaudio.mp3\")\n",
        "  return Audio(\"myaudio.mp3\")"
      ],
      "metadata": {
        "id": "v9a-s0Nps3Ak"
      },
      "execution_count": null,
      "outputs": []
    },
    {
      "cell_type": "markdown",
      "source": [
        "# ⏰ Todo: "
      ],
      "metadata": {
        "id": "9D7U7633g0S_"
      }
    },
    {
      "cell_type": "markdown",
      "source": [
        "Using Colab, create a code page using the gTTS API and post it on your Github account (file name: DLHW01.ipynb)"
      ],
      "metadata": {
        "id": "mSpge9tenu6I"
      }
    },
    {
      "cell_type": "markdown",
      "source": [
        "\n",
        "\n",
        "---\n",
        "# Continue to [DLW02b](https://github.com/MK316/Spring2023/blob/main/DL/DLW02b.ipynb)\n"
      ],
      "metadata": {
        "id": "3cZjH9xIiN4_"
      }
    }
  ]
}