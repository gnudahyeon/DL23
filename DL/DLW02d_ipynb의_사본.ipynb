{
  "nbformat": 4,
  "nbformat_minor": 0,
  "metadata": {
    "colab": {
      "provenance": [],
      "include_colab_link": true
    },
    "kernelspec": {
      "name": "python3",
      "display_name": "Python 3"
    },
    "language_info": {
      "name": "python"
    }
  },
  "cells": [
    {
      "cell_type": "markdown",
      "metadata": {
        "id": "view-in-github",
        "colab_type": "text"
      },
      "source": [
        "<a href=\"https://colab.research.google.com/github/gnudahyeon/DL23/blob/main/DL/DLW02d_ipynb%EC%9D%98_%EC%82%AC%EB%B3%B8.ipynb\" target=\"_parent\"><img src=\"https://colab.research.google.com/assets/colab-badge.svg\" alt=\"Open In Colab\"/></a>"
      ]
    },
    {
      "cell_type": "markdown",
      "source": [
        "---\n",
        "# 📗 Topic [2]: Coding basic #2\n",
        "---\n",
        "Keywords:\n",
        "\n",
        "+ variables\n",
        "+ **operators**\n",
        "+ **data types: list and dictionary**"
      ],
      "metadata": {
        "id": "k4A5_MYHpcNQ"
      }
    },
    {
      "cell_type": "markdown",
      "source": [
        "Your github IDs [here](https://docs.google.com/spreadsheets/d/17SX51lCqOdtvC7cAGoX5tP9fKwVdGY5sRzMg2pXh9uk/edit#gid=0) - revised 0327"
      ],
      "metadata": {
        "id": "mUVgzk50XMkt"
      }
    },
    {
      "cell_type": "markdown",
      "source": [
        "## [1] Variables"
      ],
      "metadata": {
        "id": "93gQaEo1RX63"
      }
    },
    {
      "cell_type": "markdown",
      "source": [
        "+ **A variable** is a named storage location that holds a value.\n",
        "+ Variables can be used **to store values** such as numbers, strings, lists, or other data types. \n",
        "+ The value of a variable can change throughout the execution of a program. \n",
        "+ To declare a variable in Python, you need to assign a value to it using the **equal (=) sign.**"
      ],
      "metadata": {
        "id": "jJT4hD1teuJr"
      }
    },
    {
      "cell_type": "code",
      "source": [
        "x = 10\n",
        "y = \"Hello, class!\"\n",
        "z = [1, 2, 3]"
      ],
      "metadata": {
        "id": "Xes87bY2X45M"
      },
      "execution_count": 6,
      "outputs": []
    },
    {
      "cell_type": "markdown",
      "source": [
        "↗️ In the above example, 'x' is assigned the value of 10, 'y' is assigned the value of \"Hello, World!\", and 'z' is assigned the value of [1, 2, 3]."
      ],
      "metadata": {
        "id": "ulw6QsP5ZiKp"
      }
    },
    {
      "cell_type": "code",
      "source": [
        "# We can assign a link or a function\n",
        "import pandas as pd\n",
        "url = \"https://github.com/MK316/Spring2023/raw/main/data/att_sample.csv\"\n",
        "data = pd.read_csv(url)\n",
        "data"
      ],
      "metadata": {
        "id": "_7bvpJt2aQmg",
        "colab": {
          "base_uri": "https://localhost:8080/",
          "height": 488
        },
        "outputId": "ac98fd8b-9660-4c35-afcc-cdc2b1459f46"
      },
      "execution_count": null,
      "outputs": [
        {
          "output_type": "execute_result",
          "data": {
            "text/plain": [
              "      Names\n",
              "0      Mary\n",
              "1      John\n",
              "2       Tim\n",
              "3       Bob\n",
              "4     Sarah\n",
              "5      Kate\n",
              "6     Marie\n",
              "7   Johnson\n",
              "8      Mike\n",
              "9     Harry\n",
              "10      Jin\n",
              "11      Sam\n",
              "12     Paul\n",
              "13  Natalie"
            ],
            "text/html": [
              "\n",
              "  <div id=\"df-51238a10-92d0-4463-a63e-2b21d722b560\">\n",
              "    <div class=\"colab-df-container\">\n",
              "      <div>\n",
              "<style scoped>\n",
              "    .dataframe tbody tr th:only-of-type {\n",
              "        vertical-align: middle;\n",
              "    }\n",
              "\n",
              "    .dataframe tbody tr th {\n",
              "        vertical-align: top;\n",
              "    }\n",
              "\n",
              "    .dataframe thead th {\n",
              "        text-align: right;\n",
              "    }\n",
              "</style>\n",
              "<table border=\"1\" class=\"dataframe\">\n",
              "  <thead>\n",
              "    <tr style=\"text-align: right;\">\n",
              "      <th></th>\n",
              "      <th>Names</th>\n",
              "    </tr>\n",
              "  </thead>\n",
              "  <tbody>\n",
              "    <tr>\n",
              "      <th>0</th>\n",
              "      <td>Mary</td>\n",
              "    </tr>\n",
              "    <tr>\n",
              "      <th>1</th>\n",
              "      <td>John</td>\n",
              "    </tr>\n",
              "    <tr>\n",
              "      <th>2</th>\n",
              "      <td>Tim</td>\n",
              "    </tr>\n",
              "    <tr>\n",
              "      <th>3</th>\n",
              "      <td>Bob</td>\n",
              "    </tr>\n",
              "    <tr>\n",
              "      <th>4</th>\n",
              "      <td>Sarah</td>\n",
              "    </tr>\n",
              "    <tr>\n",
              "      <th>5</th>\n",
              "      <td>Kate</td>\n",
              "    </tr>\n",
              "    <tr>\n",
              "      <th>6</th>\n",
              "      <td>Marie</td>\n",
              "    </tr>\n",
              "    <tr>\n",
              "      <th>7</th>\n",
              "      <td>Johnson</td>\n",
              "    </tr>\n",
              "    <tr>\n",
              "      <th>8</th>\n",
              "      <td>Mike</td>\n",
              "    </tr>\n",
              "    <tr>\n",
              "      <th>9</th>\n",
              "      <td>Harry</td>\n",
              "    </tr>\n",
              "    <tr>\n",
              "      <th>10</th>\n",
              "      <td>Jin</td>\n",
              "    </tr>\n",
              "    <tr>\n",
              "      <th>11</th>\n",
              "      <td>Sam</td>\n",
              "    </tr>\n",
              "    <tr>\n",
              "      <th>12</th>\n",
              "      <td>Paul</td>\n",
              "    </tr>\n",
              "    <tr>\n",
              "      <th>13</th>\n",
              "      <td>Natalie</td>\n",
              "    </tr>\n",
              "  </tbody>\n",
              "</table>\n",
              "</div>\n",
              "      <button class=\"colab-df-convert\" onclick=\"convertToInteractive('df-51238a10-92d0-4463-a63e-2b21d722b560')\"\n",
              "              title=\"Convert this dataframe to an interactive table.\"\n",
              "              style=\"display:none;\">\n",
              "        \n",
              "  <svg xmlns=\"http://www.w3.org/2000/svg\" height=\"24px\"viewBox=\"0 0 24 24\"\n",
              "       width=\"24px\">\n",
              "    <path d=\"M0 0h24v24H0V0z\" fill=\"none\"/>\n",
              "    <path d=\"M18.56 5.44l.94 2.06.94-2.06 2.06-.94-2.06-.94-.94-2.06-.94 2.06-2.06.94zm-11 1L8.5 8.5l.94-2.06 2.06-.94-2.06-.94L8.5 2.5l-.94 2.06-2.06.94zm10 10l.94 2.06.94-2.06 2.06-.94-2.06-.94-.94-2.06-.94 2.06-2.06.94z\"/><path d=\"M17.41 7.96l-1.37-1.37c-.4-.4-.92-.59-1.43-.59-.52 0-1.04.2-1.43.59L10.3 9.45l-7.72 7.72c-.78.78-.78 2.05 0 2.83L4 21.41c.39.39.9.59 1.41.59.51 0 1.02-.2 1.41-.59l7.78-7.78 2.81-2.81c.8-.78.8-2.07 0-2.86zM5.41 20L4 18.59l7.72-7.72 1.47 1.35L5.41 20z\"/>\n",
              "  </svg>\n",
              "      </button>\n",
              "      \n",
              "  <style>\n",
              "    .colab-df-container {\n",
              "      display:flex;\n",
              "      flex-wrap:wrap;\n",
              "      gap: 12px;\n",
              "    }\n",
              "\n",
              "    .colab-df-convert {\n",
              "      background-color: #E8F0FE;\n",
              "      border: none;\n",
              "      border-radius: 50%;\n",
              "      cursor: pointer;\n",
              "      display: none;\n",
              "      fill: #1967D2;\n",
              "      height: 32px;\n",
              "      padding: 0 0 0 0;\n",
              "      width: 32px;\n",
              "    }\n",
              "\n",
              "    .colab-df-convert:hover {\n",
              "      background-color: #E2EBFA;\n",
              "      box-shadow: 0px 1px 2px rgba(60, 64, 67, 0.3), 0px 1px 3px 1px rgba(60, 64, 67, 0.15);\n",
              "      fill: #174EA6;\n",
              "    }\n",
              "\n",
              "    [theme=dark] .colab-df-convert {\n",
              "      background-color: #3B4455;\n",
              "      fill: #D2E3FC;\n",
              "    }\n",
              "\n",
              "    [theme=dark] .colab-df-convert:hover {\n",
              "      background-color: #434B5C;\n",
              "      box-shadow: 0px 1px 3px 1px rgba(0, 0, 0, 0.15);\n",
              "      filter: drop-shadow(0px 1px 2px rgba(0, 0, 0, 0.3));\n",
              "      fill: #FFFFFF;\n",
              "    }\n",
              "  </style>\n",
              "\n",
              "      <script>\n",
              "        const buttonEl =\n",
              "          document.querySelector('#df-51238a10-92d0-4463-a63e-2b21d722b560 button.colab-df-convert');\n",
              "        buttonEl.style.display =\n",
              "          google.colab.kernel.accessAllowed ? 'block' : 'none';\n",
              "\n",
              "        async function convertToInteractive(key) {\n",
              "          const element = document.querySelector('#df-51238a10-92d0-4463-a63e-2b21d722b560');\n",
              "          const dataTable =\n",
              "            await google.colab.kernel.invokeFunction('convertToInteractive',\n",
              "                                                     [key], {});\n",
              "          if (!dataTable) return;\n",
              "\n",
              "          const docLinkHtml = 'Like what you see? Visit the ' +\n",
              "            '<a target=\"_blank\" href=https://colab.research.google.com/notebooks/data_table.ipynb>data table notebook</a>'\n",
              "            + ' to learn more about interactive tables.';\n",
              "          element.innerHTML = '';\n",
              "          dataTable['output_type'] = 'display_data';\n",
              "          await google.colab.output.renderOutput(dataTable, element);\n",
              "          const docLink = document.createElement('div');\n",
              "          docLink.innerHTML = docLinkHtml;\n",
              "          element.appendChild(docLink);\n",
              "        }\n",
              "      </script>\n",
              "    </div>\n",
              "  </div>\n",
              "  "
            ]
          },
          "metadata": {},
          "execution_count": 4
        }
      ]
    },
    {
      "cell_type": "markdown",
      "source": [
        "csv : 엑셀 변환"
      ],
      "metadata": {
        "id": "xliebn1CIKml"
      }
    },
    {
      "cell_type": "markdown",
      "source": [
        "## Commenting '#'\n",
        "\n",
        "- In Python, the # symbol is used to indicate comment lines. A comment is a line of text in a code that is ignored by the Python interpreter and is used to provide explanations or notes for the reader of the code.\n",
        "\n",
        "## Uncommenting shortcut: \n",
        "* \"Ctrl + /\" (Place the cursor on the code line and press the Control + / key.)"
      ],
      "metadata": {
        "id": "xZv9R8I8ZWvt"
      }
    },
    {
      "cell_type": "markdown",
      "source": [
        "#이후의 문자는 컴퓨터가 명령으로 인식하지 않음\n"
      ],
      "metadata": {
        "id": "gukWoEI9JD6V"
      }
    },
    {
      "cell_type": "markdown",
      "source": [],
      "metadata": {
        "id": "oQ4MvLcHIS0N"
      }
    },
    {
      "cell_type": "code",
      "source": [
        "# This is a comment in Python\n",
        "x = 10 # this is also a comment"
      ],
      "metadata": {
        "id": "7UJmbmmTaFx9"
      },
      "execution_count": 3,
      "outputs": []
    },
    {
      "cell_type": "code",
      "source": [
        "x1 = x * 10\n",
        "x2 = x + 5\n",
        "\n",
        "print(x1) # Print the value of x1\n",
        "print(x1, x2) # Print the values of x1 and x2"
      ],
      "metadata": {
        "id": "Ivc72tB0X_TS",
        "colab": {
          "base_uri": "https://localhost:8080/"
        },
        "outputId": "c55f9123-7070-4b3a-9b38-6ac6cbdd49d9"
      },
      "execution_count": 4,
      "outputs": [
        {
          "output_type": "stream",
          "name": "stdout",
          "text": [
            "100\n",
            "100 15\n"
          ]
        }
      ]
    },
    {
      "cell_type": "markdown",
      "source": [
        "원래 마지막 줄 결과만 나옴\n",
        "▷print 사용\n",
        "대소문자 틀린것도 에러로 인식\n",
        "ctrl+/ 동시에 누르면 # 없어졌다 생겼다 함함"
      ],
      "metadata": {
        "id": "A0uFfO49Ipp9"
      }
    },
    {
      "cell_type": "code",
      "source": [
        "print(y)\n",
        "y1 = y + \"Welcome to the class.\"\n",
        "z1 = z + [3,2,1]\n",
        " \n",
        "print(y1, z1)"
      ],
      "metadata": {
        "id": "cxePqv-52RU0",
        "colab": {
          "base_uri": "https://localhost:8080/"
        },
        "outputId": "14c7e463-35b3-44d5-b690-f0fc7431ef2d"
      },
      "execution_count": 7,
      "outputs": [
        {
          "output_type": "stream",
          "name": "stdout",
          "text": [
            "Hello, class!\n",
            "Hello, class!Welcome to the class. [1, 2, 3, 3, 2, 1]\n"
          ]
        }
      ]
    },
    {
      "cell_type": "markdown",
      "source": [
        "Input types:\n",
        "\n",
        "* integer(int)정수: e.g., -3, 1, 0, 234, etc.\n",
        "* float: e.g., -3.0, 1.2, 0, 3.141592653589793238, etc.\n",
        "* string(str)문자: (characters) \"1\", '0', \"3.29\", \"Mary\", \"euphoria\", 'My name is Jane.'\n",
        "\n",
        "_Note:_ double or single quotation marks denote **string** data. (Open and close should match.)"
      ],
      "metadata": {
        "id": "4zDbyBHbeQsq"
      }
    },
    {
      "cell_type": "markdown",
      "source": [
        "정수 integer (int)\n",
        "소숫점 들어가는 실수. float\n",
        "\"\"혹은''안에 들어가면 숫자가 아닌 문자로 인식 (string)\n"
      ],
      "metadata": {
        "id": "LtQZvAriJ3cN"
      }
    },
    {
      "cell_type": "code",
      "source": [
        "# DIY\n",
        "x = 1\n",
        "y = 3\n",
        "z = x + y\n",
        "print(z)\n",
        "\n",
        "x1 = \"1\"\n",
        "y1 = \"3\"\n",
        "z1 = x1 + y1\n",
        "print(z1) #연산을 하는게 아니라 단순 문자를 합친걸 보여줌줌"
      ],
      "metadata": {
        "colab": {
          "base_uri": "https://localhost:8080/"
        },
        "id": "yzZuC29QfP3T",
        "outputId": "1751e847-31db-41cc-c33c-f736815fd82b"
      },
      "execution_count": 8,
      "outputs": [
        {
          "output_type": "stream",
          "name": "stdout",
          "text": [
            "4\n",
            "13\n"
          ]
        }
      ]
    },
    {
      "cell_type": "markdown",
      "source": [],
      "metadata": {
        "id": "xRRZMmah7Zmc"
      }
    },
    {
      "cell_type": "markdown",
      "source": [
        "**type()**"
      ],
      "metadata": {
        "id": "RSo5bYGD8Pae"
      }
    },
    {
      "cell_type": "code",
      "source": [
        "type(z)"
      ],
      "metadata": {
        "colab": {
          "base_uri": "https://localhost:8080/"
        },
        "id": "qwDb8cf5fkKi",
        "outputId": "56fc1c6a-0d9a-45d2-9124-ad1726924cef"
      },
      "execution_count": 9,
      "outputs": [
        {
          "output_type": "execute_result",
          "data": {
            "text/plain": [
              "int"
            ]
          },
          "metadata": {},
          "execution_count": 9
        }
      ]
    },
    {
      "cell_type": "code",
      "source": [
        "type(z1) #str끼리 더한거니까까"
      ],
      "metadata": {
        "colab": {
          "base_uri": "https://localhost:8080/"
        },
        "id": "L7sxvSaOfsOt",
        "outputId": "95e93a75-4166-4882-d987-6ca4e44eb639"
      },
      "execution_count": 10,
      "outputs": [
        {
          "output_type": "execute_result",
          "data": {
            "text/plain": [
              "str"
            ]
          },
          "metadata": {},
          "execution_count": 10
        }
      ]
    },
    {
      "cell_type": "code",
      "source": [
        "print(type(z), type(z1))"
      ],
      "metadata": {
        "colab": {
          "base_uri": "https://localhost:8080/"
        },
        "id": "bbFaL_GWfwMH",
        "outputId": "35491659-f192-4c17-ebc8-610696f2a0c6"
      },
      "execution_count": 11,
      "outputs": [
        {
          "output_type": "stream",
          "name": "stdout",
          "text": [
            "<class 'int'> <class 'str'>\n"
          ]
        }
      ]
    },
    {
      "cell_type": "markdown",
      "source": [
        "## [2] Operators\n",
        "\n",
        "* Symbols that perform operations on values and variables. \n",
        "* They are used to perform arithmetic and logical operations, and they can also be used to manipulate and compare values. "
      ],
      "metadata": {
        "id": "5JgA2T2dRft5"
      }
    },
    {
      "cell_type": "markdown",
      "source": [
        "1. Arithmetic Operators: +, -, *, /, %, ** (for exponentiation)\n",
        "2. semicolon ';' - separate multiple statements (code lines) on a single line."
      ],
      "metadata": {
        "id": "NJBgu_O4bczL"
      }
    },
    {
      "cell_type": "code",
      "source": [
        "x = 2; y = 5\n",
        "\n",
        "a1 = x + y\n",
        "a2 = x - y\n",
        "a3 = x * y\n",
        "a4 = x / y\n",
        "a5 = x ** y"
      ],
      "metadata": {
        "id": "dXT3pIzobUHU"
      },
      "execution_count": 12,
      "outputs": []
    },
    {
      "cell_type": "code",
      "source": [
        "print(a1, a2, a3, a4, a5)"
      ],
      "metadata": {
        "colab": {
          "base_uri": "https://localhost:8080/"
        },
        "id": "_m3JBsOKd6Uv",
        "outputId": "fec77525-0589-4908-ec91-71ec4eb2f475"
      },
      "execution_count": null,
      "outputs": [
        {
          "output_type": "stream",
          "name": "stdout",
          "text": [
            "7 -3 10 0.4 32\n"
          ]
        }
      ]
    },
    {
      "cell_type": "code",
      "source": [
        "print(\"The value of a2:\", a2)"
      ],
      "metadata": {
        "colab": {
          "base_uri": "https://localhost:8080/"
        },
        "id": "5kq7I3nMd0Xi",
        "outputId": "fff10612-a3c6-4aeb-d8ce-f92150bc3e00"
      },
      "execution_count": null,
      "outputs": [
        {
          "output_type": "stream",
          "name": "stdout",
          "text": [
            "The value of a2: -3\n"
          ]
        }
      ]
    },
    {
      "cell_type": "markdown",
      "source": [
        "# 🌱 Define a function\n",
        "\n",
        "Demo 🔢 Calculator"
      ],
      "metadata": {
        "id": "Cx1NyWUAybc8"
      }
    },
    {
      "cell_type": "code",
      "source": [
        "# This function adds two numbers\n",
        "def add(x, y):\n",
        "    return x + y\n",
        "\n",
        "# This function subtracts two numbers\n",
        "def subtract(x, y):\n",
        "    return x - y\n",
        "\n",
        "# This function multiplies two numbers\n",
        "def multiply(x, y):\n",
        "    return x * y\n",
        "\n",
        "# This function divides two numbers\n",
        "def divide(x, y):\n",
        "    return x / y\n"
      ],
      "metadata": {
        "id": "Dod3_zgYdsWe"
      },
      "execution_count": 13,
      "outputs": []
    },
    {
      "cell_type": "markdown",
      "source": [
        "argument: 괄호안에 들어가는것.변수. 함수에따라 필요로하는것 달라짐\n",
        "def=define 함수정의할때"
      ],
      "metadata": {
        "id": "crYuycsfMLVF"
      }
    },
    {
      "cell_type": "code",
      "source": [
        "# DIY: define a function names switch(x, y), where the input x, y changes its position in the output."
      ],
      "metadata": {
        "id": "W9CuAaqXgwb5"
      },
      "execution_count": null,
      "outputs": []
    },
    {
      "cell_type": "code",
      "source": [
        "# Test\n",
        "\n",
        "add(2,3)\n",
        "type(subtract(2,3))\n",
        "# multiply(2,3)\n",
        "# divide(3,2)\n"
      ],
      "metadata": {
        "id": "IoHh-U2GBsqH",
        "outputId": "a92231cb-cccd-4591-e369-83464239f741",
        "colab": {
          "base_uri": "https://localhost:8080/"
        }
      },
      "execution_count": 16,
      "outputs": [
        {
          "output_type": "execute_result",
          "data": {
            "text/plain": [
              "int"
            ]
          },
          "metadata": {},
          "execution_count": 16
        }
      ]
    },
    {
      "cell_type": "code",
      "source": [
        "add(1330,20)"
      ],
      "metadata": {
        "colab": {
          "base_uri": "https://localhost:8080/"
        },
        "id": "aTuloo6GMp9O",
        "outputId": "916a9ff6-d28b-45a3-cd26-4552250e131d"
      },
      "execution_count": null,
      "outputs": [
        {
          "output_type": "execute_result",
          "data": {
            "text/plain": [
              "1350"
            ]
          },
          "metadata": {},
          "execution_count": 18
        }
      ]
    },
    {
      "cell_type": "markdown",
      "source": [
        "## Using dropbox format"
      ],
      "metadata": {
        "id": "eOluPoNqCCE1"
      }
    },
    {
      "cell_type": "code",
      "source": [
        "!pip install gTTS\n",
        "from gtts import gTTS\n",
        "from IPython.display import Audio\n",
        "def tts(text):\n",
        "  gtts_object = gTTS(text,lang = \"en\", slow = True) \n",
        "  gtts_object.save(\"myaudio.mp3\")\n",
        "  return Audio(\"myaudio.mp3\")"
      ],
      "metadata": {
        "colab": {
          "base_uri": "https://localhost:8080/"
        },
        "id": "RUCq5D3INghF",
        "outputId": "77cd6cce-2ace-490a-bc75-8250371ee399"
      },
      "execution_count": 17,
      "outputs": [
        {
          "output_type": "stream",
          "name": "stdout",
          "text": [
            "Looking in indexes: https://pypi.org/simple, https://us-python.pkg.dev/colab-wheels/public/simple/\n",
            "Collecting gTTS\n",
            "  Downloading gTTS-2.3.2-py3-none-any.whl (28 kB)\n",
            "Requirement already satisfied: requests<3,>=2.27 in /usr/local/lib/python3.10/dist-packages (from gTTS) (2.27.1)\n",
            "Requirement already satisfied: click<8.2,>=7.1 in /usr/local/lib/python3.10/dist-packages (from gTTS) (8.1.3)\n",
            "Requirement already satisfied: urllib3<1.27,>=1.21.1 in /usr/local/lib/python3.10/dist-packages (from requests<3,>=2.27->gTTS) (1.26.15)\n",
            "Requirement already satisfied: certifi>=2017.4.17 in /usr/local/lib/python3.10/dist-packages (from requests<3,>=2.27->gTTS) (2022.12.7)\n",
            "Requirement already satisfied: charset-normalizer~=2.0.0 in /usr/local/lib/python3.10/dist-packages (from requests<3,>=2.27->gTTS) (2.0.12)\n",
            "Requirement already satisfied: idna<4,>=2.5 in /usr/local/lib/python3.10/dist-packages (from requests<3,>=2.27->gTTS) (3.4)\n",
            "Installing collected packages: gTTS\n",
            "Successfully installed gTTS-2.3.2\n"
          ]
        }
      ]
    },
    {
      "cell_type": "markdown",
      "source": [
        "gTTs 설치하고(install) from gtts import gTTS 코드 붙히고 def해주기기\n"
      ],
      "metadata": {
        "id": "NTY3-LtaO_EG"
      }
    },
    {
      "cell_type": "code",
      "source": [
        "func = \"subtract\" #@param = [\"add\",\"subtract\",\"multiply\",\"divide\"]\n",
        "digits = input(\"Type two numbers: (e.g., 3,4)\")\n",
        "digitsplit = digits.split(',')\n",
        "d1 = int(digitsplit[0])\n",
        "d2 = int(digitsplit[1])\n",
        "\n",
        "if func == \"add\":\n",
        "  result = add(d1,d2)\n",
        "  text = \"The addition of %d and %d equals %d.\"%(d1,d2,result)\n",
        "elif func == \"subtract\":\n",
        "  result = subtract(d1,d2)\n",
        "  text = \"If you subtract %d from %d, you get %d.\"%(d2,d1,result)\n",
        "elif func == \"divide\":\n",
        "  result = divide(d1,d2)\n",
        "  text = \"When you divide %d by %d, you get %d.\"%(d1,d2,result)\n",
        "elif func == \"multiply\":\n",
        "  result = multiply(d1,d2)\n",
        "  text = \"%d multiplied by %d is %d.\"%(d1,d2,result)\n",
        "\n",
        "print(text)\n",
        "tts(text)\n",
        "Audio(\"myaudio.mp3\")"
      ],
      "metadata": {
        "cellView": "form",
        "id": "FT47bY6qBo3k",
        "colab": {
          "base_uri": "https://localhost:8080/",
          "height": 110
        },
        "outputId": "524eefdf-ab34-47cd-b141-31cbb51758c9"
      },
      "execution_count": 18,
      "outputs": [
        {
          "output_type": "stream",
          "name": "stdout",
          "text": [
            "Type two numbers: (e.g., 3,4)4,5\n",
            "If you subtract 5 from 4, you get -1.\n"
          ]
        },
        {
          "output_type": "execute_result",
          "data": {
            "text/plain": [
              "<IPython.lib.display.Audio object>"
            ],
            "text/html": [
              "\n",
              "                <audio  controls=\"controls\" >\n",
              "                    <source src=\"data:audio/mpeg;base64,//NExAAAAANIAUAAAP9db/gNo2qv+Ly83CBpb/7mihRdsJzm/3Pd//z1//nFSYPxsW/1fxJJCQNFQn/9vzlJkBueae////6GkTmICwECH//vwIgHzSpcpnQrimiFrYLG//NExFMSClpgAZk4AMBgAxwIwaw9R4Lqzo8WA0wyE4TFre4+IMORcP6++PDnxmltP4ePfFMenlt7w6J+wpZ+SxZTjKJkUrAchzhfrTlBbnTrdNMD3VJsTLhSNi0x2cI9//NExF0hyhaQAZp4ACRvtPr7q+aFNem74bqs6qW6U+KZ9PrH+9dzFkCs+XAVhhfVKet1Qp96jVV8LskZ0ISwxIfGgFCF5EBpp0olsJAWdtpE5lvUcvf/NyO+vI4//zY///NExCgcmf6YAdt4ANS7/+p//LPv05lzRor8AVoc2RqMC1AxpeaIFYDUwxIMerBb29bbzhsxTxMNGYsdwVHxbds/Pp/8Y1qW2It1q9Xmk/5ChmMkBRrxqq/5TKMwdntM//NExAgToaKoANHSlN3GJQhYxvpjhdBeW55vUP8v0JdBx9Bx/7L/+YDkT1NFYIDuMpjT90oKouyiBr/pXl+a2/3L+EIIazGCTiu+lpgR///9Sv6qsfnBClhoQUBtqy8G//NExAwVWfakANIOmAg78xEuZqQSC7qWBqnEh0dpItf7XOl/N2u9qouMEcRSVKjQRwGi0bMeD0WmDcIACmKHnTe3r3VlSjorHKa2jao/6VLMxv////11rYbW0bZIRTUB//NExAkUwf6UAMDEmJe0tswtvHWrRoKUAQHPZjz2/4dVc7G3UpIbKDI2KWUrpKzBVSlSqTtTs0rPmeUYsnP03vciO1Si3iySRxW3r1kEDSuukVI0ygybFtPZJJ1HP679//NExAkTQbaMAGBGla+r68hj+kMJ9DsAgTcnZFQ6W7Qzv75oeqe2VQ9H0af7d2IkQWm9XhWx5I3J+CtdpJbmHe0Z5X9ezaIJ+Mdh9vqti9oJDe/2nnq378u7cn1r5rzs//NExA8SkiKMAFCGmCBmEOn3TwS03ftcdXA37J3cy6RkZu7EuYsgnptLUDulxiLziq/SYFRCEDBxKUS06ffFS2kXvaRPtjkFVQIm10E9/f/09VTp0dCqzlMgUrjCmmUp//NExBcUKgKcACiMmdZkW6o/PPHTefXzmPHh/r57N/vLu2a8+5+qi8i2f5jZqaB759YVOe77X37ioz4O9PKw9Pl6g3/mLVqfp59wCqCbMJsjsenMK0MWbelAxbVO691///NExBkRidqYAMiKmPT/2ShUDGMjHD4oMa90oZIdEWcw53rQjGPRJMQCRSNLtLvcRHybIszbvb+JSVWdnqsqgEx0JNZ+5VHgQcIgVjLxgCATdjuYj/873bp/xF/iQGtD//NExCURqZ6cANKQlMoFBMXorVzCtbj3rsg1prtL5dBtyMMPqOdy3y7LN////1KVZ4TZAMbkrXKDdEYcirKO90FAR8v5T19X8zxyv5O/w7EV4sBg6+AaNXAcG15Agm9s//NExDERKZ6gAMnQlId3jTa+TzVQgwW3ibfUDQ8LPoyVx52db8ndNDn7zCwbXX/h3h4M5Uv0GvmeVfovUb6nCQXxQDQCZGYYoFEs5hGCZDNcjLc4bLyaurakZ1ncbW0f//NExD8R2dqgANHUmN/JcZ////69KrOrsEEKULFIDWo7qWpmNzV8PzAfJdCV+MCboX8k6kT5Qak3DYHkkyAsAvQ8nrLqSomgVVNOs6i2tLpo9akujas+HXMoHQTDX+ui//NExEoSQY6cANKalO8hsRmwyTFHWhhoRwk6nhyAwJ+K6G6hn6NytwxkJOAlU5r8S2QCAnwbn76PQsuEHkCdviBxQ4RY/l/t+j36wzbylXUahggEI6XymG8QU/DirG+///NExFQQmSakANCEcLNSiXd9f9PzyEZKneY8ruf+xAYpTv9npmZnP35yZ209NeetSV/T0xQZzFGFkKuHl7o/pROKaRzTguIjuI/kzuvJi1WnP06MlwQJ/SHl4ZK6JDJ4//NExGQhOyKcAHiYvIY7sg3VxnZGHQlkszJ9vCSKvOLixAIi+AuEwxEs/QkUHAde3q//c/1ev/mGX3P/9zBEaX/f/18///f//zv5zN4rv3zTOd/FoFWy+n1MTQWxmgMk//NExDIdyyKgADhevDmVrUtxmzcKza4trGzG49Qx+/OxGwl+GpkOPliMNQwTmV7MVZ2bMw7TkO0oyYF6OdSDxOhnRa8qmBqdodIpVE8YV2oX09U1/6/////tq07VVtrc//NExA0Rux6wAAgOvbTcsbKDg2LlLmiarbMWHhKPLEsw80wwakI6YeKyCmkC5cTASB8XZTRwYF4yEoTkgcEAhHBaEY3Klx4K////////////9mf///////5/7m////55//NExBkSmyKwABBQvO5mW2uD+bqoWodStYSoNdXPVDZIUVSs091DgRRghYsbYsaCyQGyUHVh2H44OHBsHpS1Bf////+//XvQyul1NpZt9KHtdkZjXVDEMmGFmLCdTjEN//NExCERGxqwABAOvTx0oPC8ixAgTPNUXmiQKiIvBMYEsRAfAIAeDkAcbgMAqMDzCqe4QQBhhkeU0//9f/+X////r6////7Po3Tdfq/Q61mOR1ZrV2UrHYpijGo5Rzh0//NExC8RMxq8ABhKvUpSlI5VEBEmgsURFQkKBFBkREREOjbPDKq6QqV9nuzacg6CtiwHnRJpeudZOeffpI7z8ZgNUsUFiGkxEC4vOQoOMjqv1/9NHG57//3p/9X536vl//NExD0QoTK0AMPOcFxUBeoemrNn+M/HxS+WVYJAOEgidLxNAlR3sziujuSePgeUsjCImusN6nZawuNw0lFdrV0F7rGbW18/e/jX/xmvzt+0qccU/p3y+70Vt4buFgdZ//NExE0RmSawAMRecFVl+cEAsmKbuzA7BWrbwHBKnNatr8qd96pzCmwfc2YsDlgjUnUUVkN84/ZPmS25vrYhyCWYso9GK1K6vgseQpz+UylJTTG41DS3x/pAZy02QUeP//NExFkRKTqoAM5kcAKteopUzmfyzf1CGcz3GlfOoxmRAYB5udNR3GLtcyXqSbz6qRkeesxLiajIul1k7/xMn9/UBWcyqtEyRcD+AOTI8soBQTrU/Pbhm6SPZdGMTETe//NExGcSgSqgAM4acFYclosYqgjyxGsYIOUksjEQZZYp6bkVwWWMeVcoKuSHXCwMuK/9Qd//JRJGGIwC5QUCJhWVHXhqYDDxgIDmAgPFjwqltsObg4agkD03JS/lGzck//NExHARuK6AANYeTIBUy1M0HT2WfZmswPJv3D1NLGzbPC33/93/7+7///8elTHAwWE0vFsmO0xtpWIAdL1TVkI1Vgy1qGiltNGSwVGa2k5nxJ1pB5ZUCCj33C2QWu95//NExHwSYKZQAOaYTNJraUro79HkE6233+7//e/79mkFGd2WSBNIyoTZlt2GYg7Xe6rDwGKtaD4fB02D4wMwuSQdMnhA4DNOAI8ASjz42Z3rGs7pQZPUizVJocuwYwYx//NExIURQIZQAN4MSD6NyK9P/SSVK2UdcZFPY78lhaF2pCiHUhL2ZhecQiKm5W3CDgeE4cAVKNMz74TDzYJCUQRbKIfdQYX0IB0qNqjRtUWLoR2ef3PhNEZFNG1joVFE//NExJMR0EJUAVgYAEgRP93vh/oy0jai9iqpLvfqVIv///83+rjPZ1DYbBqaXZrFfHK/h/4fKhC//t3kJYw6kdrrf7H5G+tmwCoLlfM5h7/nj5N7dz3dnOcPfr1tzyFp//NExJ4h6xJ4AY9IAQodkGIdhNIMEi5+AgBCNMPi8nqaOQoFCAknVRkQChlHi856vqkJ3s9+TmxN49sQANgRcg0uEAwJ0Vcnk7F7/XQlwfRVKis3w8PYIk3f7qtKbtn5//NExGkWSbqUAcdIANU1jN92zmBvU8GP1JHfODHOubNU61GhNqGJGRQkLYGomb7BKTCMBAwAZtyFAF0DBwzKRZtE5IcKaiqaKSSzlE1lmECP5aBtJRDCqxtmcqTVluIP//NExGIhuxagADPSuQxvZ1ObsnnlbXq9+/b/uFRnsY7KHavKvpQ91jcFZXtyio3uMB4z/bMZQJ6fZL73HLZjFFjCigyWc25hbA3CQP4OCwq+LbzZtG469qlJic+Kq551//NExC4Rgb60AAiQlOOp3n7qKxiBfYwUfc2/VTq/uZfpLWI2mg3+dgEE72076IrHU/jjM6+LCUo+Rlclbw1EgMr49WaiLp+dZ0KUvm53lXHHGBGZexqEPDRssZFqzoU1//NExDsRoTqsABCScE9rEVqX/15FTauyqq6xAJAAOANBGPGfQn4Rt9F28ay4QbUo2PP8QMs9/4IRAQCmIre5dPeXW2VTg7Z5JMs9odEQdDXKhqoO40NXIZqTmtbwfYLs//NExEcQOOKkAHvScAPBiu5l9QRGSXNR5ag1AiDWVXTmVaRpHwvDu31TknO1rkTR/filf2flQXKn3qbpIZY08svu81Nw/0MoIf//KP9WjSqv+IIS4FOza1xyms3B9zB9//NExFkSGOagAM5wcOSjlENPxzDlKW/kdPfuU0Mz+t0J6KQoGTzDBDdDnaIdlMTplvEo2qlFHQya+YmP/9oneE/3aEuspAG4Wx3YoJ7A7cD6uSIZAdSHIjVssL7PA4b8//NExGMRgQKsAH5ecEg3lNOUsvomlMOIcouZlxoRvD0qI6JsQlc3wn/w+SKceudKy4BfU7/UCBFXcxAM4C4bziHVmKFzFfmbkitrt01XtxpI0cx23vVxiETg012sWUGY//NExHASAQq0AI4ecIRm+20/TEpr+DCQu/8jEX5jz84xV/fEmrsyof//ElVD0w4kC4HlGC6BkQaON4Z/aERxE5SFvG/EEtQ8Exe3uGSkKzv/2FQgpQ50ffGn0N5T+2Wx//NExHsRiR60AG5ecL4/8JicY1NfUF4z0ORbLN0uqMp+ZU/WgDbpsstp4U63UI8t/TPCoaE4cTlBb4lsRHbTmtQDuAujzV+cvH0QeSPzr5y93/97bn97/GoMS7y4NnKn//NExIcSMSa0AJYecOVY6zmXdVL8hgFbOxU4zbLwmVnWWNecBKC/N+z23LnVBwaSrGgwWsEZCMKuH4ENMk+Wo3ximlTEp9bu2+28U3OnouED+l1Iq7IItfqbrrlKpf13//NExJERORK0AIYecJJVRm5LmVpdteG6J0Y0XNpVMIqAPT6ZoU/O4nRpO9WhcMQRD1chqbkkcmmr7EuQz2Cs5tDo+tvxnJ6tWsLDg7//+nTrBWouZG7190lFzlmHXXgO//NExJ8SIRqsAJ4ecJGyiQNYejlHZMnLI5E5VJ0uquerdmNEVWWNKqxsEUygJdLYuZb1asqS5CTLoVQmGu7/0kqzs97v////3S0GMLCrmhjWgviXYXBoKhwtamodfoeV//NExKkSERagAMPYcDuNIeHAkOHYlxkxY2eMnZbJCwhgfNxDEc+EBklh2NxEHMVCgPCWdKO9I5SnSCtjN3eJGDubm4os95LGB4KDboxk5vjeXmELPhLIMyxcYKUQrwKV//NExLMSeQ5sAMMScMvzc839EUzJHZSf4kzN7LKQyPD/w/a4iMwqC60SWPxmpL5bc7NZyqLcs5dx+7jZytbx1jObHPJEkKkyXEhUmQopkIRAMaGl3FSVCw0hZ2orbGo0//NExLwgik5oAHsQudRuX9yvJLaugbQrPu3bkos1HyyXrbZVzskS7mqzab/8pST9w62msc1t/9K7/6UYY+YC0tNC68VdTouwmWot0VAug6Yvzu68qK/0VbX8Qab0ja/l//NExIwdUhpwAVhIATPwZh6Nmsrusdix0+aFwewPDrJfPdZDjYdHQ2FCePpYsUsZxO5I0ePj4Y4RzhqSxDJPV/Eex9PhlSwgTYuKTUP7bQ+P7/9ssa+k7t5/H0kGrGkC//NExGkiGyp8AY9YAEwdzkXEJ///E/P9ab3x0b2fl/sdJYVJlBMVMDAfzQkVCwzSxWs9+/Gy/7trPvWnXcgaS29LA/+XcrD1kFgyDJ6moLCwrDkwlNA65JtiRJyepqpS//NExDMeQxKQAcxAAQw+ho+5RSqk04haFoIUhh4hmCY5xzueeZVh5JBBbFltVHy4sKQt3BTzUOhrWs8PETM9cpdozSMrHUPK+LGt1JCui1Edn8MNDQvf2OYOZk5tX6Fk//NExA0RkTKcADiMcPWKnoeaISwqCoLLZmw3Y9Y8FQUhbvtNp7gQtiUXQthhIRi6S54XFhU0KAzOx5R5M61T9n2/7tSKY5UES3SmcIWU5F+3z/jSETEuCYUgNiFuSGjg//NExBkQCL6cADhGTKCpITHVQ2kNhsywPC+ajIFKliSWDAFOubj279t727KZRGwkMvf1RioA4Wm/nm29T5+fOF+x2s0pE2zlGh6pV7FjmZoOahnVFQwq7mUpatTVdrI5//NExCsSExaMADjEuabK7U0vNmey7f/7bp26pzf3SjKrWV1mSxE3s6xp6gGS166rb9t0V2vm7p0WtxTKJzJctXwTjnCQ3R+zqm5v6JJbsCVx9X8dKBXH6XtZN23613di//NExDUSIXKAAFCGlRvG/Pb9fT//fnfuZ69x3x2D8m6KAeFgt+t2///mb2Em8IjpdmqJKmdJYWSfmy71xzYwNG4MgPFhXaFWtc8AiryTw015clkURZI2+q19QrioujDo//NExD8QgTZ8AFBGcF5tqQZJbvXmUb9PPP9FPp51zcy3f896bv53NSLXz6HPNs7N7adsP5pnnBnLQMB4WWbcMGZdeD598BsZizm6QsEWPHDXu4OEFFwchVxrTZmGmNa3//NExFARwZqIAUoYACWxtAIJNDkNt+lZZKgMzRZJExE/kALgGfwDMADTmKlnhZBBFnAFKgFDFwCyEziSajQ+karJtRcZlpGC2QdF0lIuxubkwiYpH9NbordnSWrtcxO0//NExFwhcp6QAZqYABaLJ1pWSMd1KToO9BSnRTZqalrUktTtSXUqg/+yqKqaLmqIriJoraR/pt2sZTICKyJR7N9gUchrIaWmKoRtAs5hrCBwDHFJbWekqlhcyURyS6K1//NExCkScR6oAdmIAACwQebmw12oLJtWowR9fUgn00u59EOiD/xaIAW+mj13JqDn4x4tHIsMZkYi79rCqspLG5c1FwvQLASCvfIAFNL3JlmJEoroL+wLIIIsXtI/v/aW//NExDIRsM6wAMZecD7UHawxLHFgMCCczFd2+pKm9bW/ojVe4C0NDVSgaMOCz1uOAoz2VJRER1A/mHPzdoQTWvTfUR2APMcZaLpYC5sPob5icfWeN31oIdJDqTT0y6VE//NExD4RwTqwAI4kcB0kj+zO1uof6Of+VUAniuOqywIKZO9yqkiqrJRess+B7cJynYdT9DirtzGNBagNDOmpNihQG1J5FJZGjj2USnqR+aeUDSm6icQgq+nEG2p/okNj//NExEoR8S6sAMZkcOBYkKnTEYAH2c7qZFbqcV5ZMyQ+PkfcKV9SauFrk0FtA2oomZoOUBXjc1SUMYKtJFSBGNql70EXoSwtlTMrsmdi7q8rh7+uT6IG0or0waYNry7u//NExFUSMS6wAI4kcCRlAw/XmYbWAA7zrbyoASSnDlzdYeT70qlgGFwjQRzglhfRGyK5qnP7A91nFIGv9wG+L8UTj6fO/D1u/9vkzyaz/9gAMrRZfEBSkPW+U68BMUiz//NExF8S8T6sAI5ecKqIZj0l1V1MJoZUutxN9o2cPxvj9cbSl/HicseWMGeoYt7scb+jyHXO7wH1qPE5OdB8Rf/62Kq3xkUwS8J/GGQKa4ZXU9wc5p13OAAYVXNjtC40//NExGYSYR6wAMYecDuXNvvZszQqIT08wJJjFj5MAkFWJB8PrS2k/7MVXVph5HWKCJ2UJbPd3BQoiOt2GHmNMPJS6kWQRhW/ezpEdEkr+7bP3FvauQzPb22dT12z8fe2//NExG8QuSa0AH4YcOVCapxaMwpivCnLLt20K3/rx7t20h8uOAVN/+hKBKrtq62M60C30reALOlykcoU7hpAg806vba0zqBsp2NX8a005UPZXaVVmBLRNixcUoREZWFQ//NExH8SmSKoAM4YcKpoctWbNb/FkUvQpImojP/4pXWPVLgokWbAsed5YY4NjoEn1PHJ7elXWd1ylpZnYGdOwyMHtOBYIjiaCCmMBAMBCaJmL1zlsu/IKjXjXwBEyrlq//NExIcRmRaUAM4ScDterZbbVvwjPvoVPdiwmq3tXynn8mHenwlPCKuaUfVCnBJHbc59c3R90sQbImrxUDxYyKBgzBFwu5wCrJtMeO1sJ9pEa+TeJwZfQXA5Eo068PGl//NExJMSkJqEAMMETAQjR62Zmddf/7o/bwl09cpYWZww8EqpwjzQwR2LV0VanZU0arl1bzvozOvKj5PPVls6yst96m3/Xrr9F5vdum6aO6aBKUoEP+rsZ70/71WjjAzu//NExJsR4UaMADBGcLKh10Z9lLcrK92Qe6PuRaKaprrYE7GqWmjo6P2Q6yoj5PTRXX79mW9nfW2/2RnCff/OtYY9a4pRrbUFbt761f///6txyNqkkfEWKAXY/UKcQOSx//NExKYRawaQABDEuFKbYWOeRu81jsZkYNIDEQaWclZNIqEBiDgs1ZqsEnTSbu2fTXShQ9C6QipQeLCc+XIKAGb7yPf/1djwRFPQVju0K0/JKXmVgc0mF6rd59SYAKEP//NExLMRupaQACiEuXEr//Fuf697yOdem3zWFMo19Yd/vZP9z57+/Flxd/DoHVvjxJSdC8QiVzDbqZxXZif+nTC2U77KEIOTfMqN9Km9zLMs0IwTConLHARNtZSHVA4c//NExL8SmV6IAFDGlC6XVi7DywAda9B9Wx9f7uwkq1EsthURNPJQsspAulNTJTdRUzYoHAoygrAyGZGPmCIxlLiZWLmAz4sLq4O1GUlTjRAaKhpjMHQIAD3QREAB6OSA//NExMcRqQKMABCGcddHCITmBJAZigYuCCgItgHuAF4AHACYygSxDCbTDbx9haaS5bE8A24IxAUgKIkmY6kFL5bMFMjuyLf636DK/vuqtloHUFMtaCbnav/Pr/83Pu/6//NExNMSqOqUAUgwANOOUzKhRtNRlmJgEbU1gUURdIDgUjdwaUOFGEpxgJCqZniEMVqCgIhSsPsGw4NzRZJGgVgLOidhahSI7TQwE5mrjoHyQUipCDLiCJkTIgAxwgBq//NExNsiOkqMAZuYAIKNNfQb//9tNVZfImv9xwiETaqlrvoBVA80p1GgY26/oXBjdd/IijoGD00pZSGu1JS3ZJnJ0BGAk1K3oNIlt6FhoKRwtQMv7CtbdbecGWumAgxT//NExKUZCYKYAdqQAGOB2IznxPy4boEmhTQ7aPXqT7drnjZAGBxf7OSaGhVwYs4Jo7phgqtxbAzaXMRBjKVxJ0yWumMwKFNLIViRYlbL2yCgbYyHanSgmQKs06Haa5fq//NExJMXwXqUANZalL8X8btTP8b2ujxVzAPUIgM7AIBjFES5Wy99OvKWJiyJrt/+FIIbskuZBrmyiLRkwjDr4UIEOiIYUOh4AdZ/QR0QtqZU1Nncee5AqiLSzAQ5WUgD//NExIcWAXKMANYKlHTzip5+/qpVJEy+ZNGiSJbmiZ2EIPBwLAOFZdjj1///7K5c2ZfVkcCP2YEeh7HCVKDD1AWzBgCU6AIqPDlPgB4oX0SXewTm90Dit5QHr1mgWtTH//NExIIVKXKAANvOlbMoe21pezgzNCiHKEKc4OZO3//6ItgzWMb/6wIFOyuYyhkDf6NrbMTewkUEIQpsY0SpwyibHe6hKRQzxJHudL8ZielUcUOK2l5tvOrakfe1rVCs//NExIASAXqEANsElIilsUZGWS/XT/+taggp/Viy1uBmc8ciLJUkgGZQfmWBcrY6Xqc29LYxclsw/2FJh+O5SEQbCU8IyyyUud73fv9OI+3stgO0wXA5//5H9P7EqOf///NExIsRwXZ4ANvElfr/ygYVCDFi5mGS6GK1u5bYjsSqf7sNVSXEqCpI00VcbZZRloJkz6geNEYgPwbnhwH4lXVuzA2J5qxIDQR6FRGgitKcfjYKo5TxcfKV1cvFTj4d//NExJcSEPJ4AVtAAFJNUfGeULGyI6JnvTnvzKRECQo9CiVnZkKHEOttkJXNO7V2n+xqHD6uJNiKn3yzWk1YCd0KdQZDImQxSnT7rSWze1yodckbxHpcmM42RAh9rmqO//NExKEg4yqEAY9AAGeXZrutSjUqk6IGtgY+A4gGOBZgCCacXrQO32IuRF073FyrxYNVKJgWG48YBn/vdvfZ3ISyNKtZETejV6Sku1IJ7GkEjqh6UhLZGMC5gCPJarpB//NExHASOVKUAcUYAIOwrqW2ILDfjf7bn6Av/r7/bfv17q6////621U2JDfwrSz1CBP01Ml2rbGiNRCR6f9W9JSzpMDOhBMgtSuSbdr0zEtBwXdCQCKOJZFrXvFHi24W//NExHoSWTaQABBGcXrltAoSN9m1SLHpy2ys4gi1Kg3/2c5v+t/VElnew09Wc3EJyOA+wbJCOeaWZ8Mc6RAwK2RjX8UuMRhclvzWcZSDB//mdr9e//90TRKr+Wp8FWtF//NExIMQWTaQADhGcGkTElzTqqIAa/7Dfz/JkOMby/3RqznEKSbi57CTAWA5tMAuJBoeRe1aQSGArfiMLEQQh9pZpBTk9qJRVkWMUwG/mURYeDtTg2bqj467CHhG0Lc1//NExJQR8VKMADiGlTqketLnTajHgu8KM6wNm1JvpvKRrChClP62ZzMMqSoABULM3Bqw+fW4Jrv2sK2fFq2M/W5bfnqeslvnlq6KmJXXZSKXhuyNS0G9IczEgn2XTY64//NExJ8QkPaUAChGcKEYYykvoaRyaWQ+WVDPw/bwqx7npFtlO/Rtj7fKz7XfapymAGi9LJQgIE0/QK11ikuxjw4VgkAttLtQkJOAwEtUqnQAzsTuVzAkgMS8AkYMUiZD//NExK8RoN6YAHpGcCge+RdaxulR9jza0Pbqns/T78MEZsSfQ/sd2MDOaGf79wqIU6cql2uX1bTnAE6GFNaQ5B54amKnmIfESrCqGMPK3h2ErehEjeJAMve/9WGbjZhF//NExLsQ2TqMAM4EcPqnMvT5v26ESUMD4GLNhJ06VCTfuQhwgPoqq18K7PCZDKxBy4OVRMQGweaDwtS5rAmEHmaKNyvNGMSYMayAYCX8jMqgii/dLZqc//y3//z8P/7P//NExMoSeXaQAN0Elf/5w4qmQnv3sWihZ7pe6ySqgXW6RwzCFOAX2dlVUwMBDZdFaO1pkCgzbB13Q5KCEqccQBpMqmexB27OX4UFLz/+pl/9zs8+py85v9CENUgsY2im//NExNMRkTKUANZKcDc7dH0UgVwv8MBVrGf////6034vbmB0CZNMtdRNgwXAB207Ih0aBdgiAGwIpm4KnY0F7IGYpqyqKu0W+l26kYiYFZBMxWnOQ1iL0Zv5HI6nPKHh//NExN8SUY6UAN6ElKWARs1ZQZSgP/wiHjf/////1o3YrTIBVhEVxX0Ldm2jH7UBxYGCCAEHfHsang/4AIMhc+djVIc0LgiE4zA1AZh9IQ7VqXjgBoIJxohOfn5U7mfd//NExOgU+YaQAN6ElN1NeYGMONXa2rqBger7GpTVXbu0Ig41oNSRl6H5j7yYuMDxEDBo1DMO8pzQhsiCgAUMJTBkDGhi65AyMJDNwZM8VLJmGBJCtcljbstq15qZv4fl//NExOcUuSaUANaKcJ3c7mevzzbrFw+m/aPtTmKGpJQdH852+d/8+effKg3o+tg8VX03HAohEwRA0iBgWZOENdQQGXQQCRwaENkADCmxdYKmh3R3QhDKDYFYN7UIxEKZ//NExOcUSSKUANZGcMgC4lVlBG6xrf2prVTHDDmeOtbIMZ2UQVhIhhxGDA8PFpnQ///3laQcR35YmlWW6dEMrkxWjC4s5ZBRGPGIrERQssCRJu5IQ1eOAzXBS2rTTAiQ//NExOgZcYaMAN6MlBHUfYGMCtNEFLtmLbnRAwJD0Yps7MDxmxGL/bl61vdGVY0mOGA2JAFA0BUSiqQFSYi6K3//9aIaeTmnePUsWIoVmbb7nI61+CCC1Kilawc7Karx//NExNUXEYaQAN5KlAxSdDyoGVikiQL0KpiXCWD9qABxdOKjk8iAwBDjhisBwNhZoYwl2S7myLcfMyrc4CmeNau1ObznCtDimR1zP/W1xL/apAdViNPSGPRGpUQHk3tL//NExMsZUYaMANaUlExpPuvKhgQcYmkDFBRFK4mvgVAvLKVhBYFKGZg4swZ48RpOXg/B4MtTfKaFU954iLcKRhH0JWYjDwOEydn/9ECgu7/eUWsU3gSG9ki+Uk2KUzbH//NExLgWEPaQAM5ecFq4g4Q1zoQE2062koPHdshUCflqHeEUtguAvZIuIK9jXQKhXK9jKaz0vstWsptahWFXI///u9nqCoqqh+zNmKxIpSIUxKGssg5DYTKwDwjDImyj//NExLIUMN6UAM6ecERM6GBmLW30QNpbqRu6ReEN3EMFsMaAEkHrPB4OBXQzrL04MiGOWdzcI0///7f+mmWxd0DeHfx0xTGZgcUYIs5JDAgtSYhtLdPGUM8YfGIbZ29s//NExLQSCNqUAM5ecPumpdVibTsZ90pl6HHAJI227A3VddmbQWcShqsgAI0Pp///9f9MeupjFIvI34ds+RgoDUmfiGURL2aiEoLnmXy1TWLQUFxSJdqPwFFYiX9eWxxq//NExL4R4NqUAM5ecHuOm0xOI0IqIMwMtiNNOH6S4i3CK3T4er///57/FxsDAXEW2bCtMspMS4DCsPAVAGikKF3KlJrww8TLos3YKgcOVxVpMnhqMxjtqPSBaVxuI4L4//NExMkSkMaQAM5wcD9D0m0Un1k/SbvFDB69N3//+r/QDSpe61WonbCDrFSjoBNnYl4AHL2igz+8EYEkMslonWuYmSVanOSzVWumRdocxPjuPN+W8ygvS8q++nslgscd//NExNESeNKEANaecGN//+v/uTUaCK8HQJxppmBLyFQC+zgv+ryIoaojOjyTXXbhySXj3FfmqdWdJ6t+E12guYytigjKgMVezNgUCqZTtzOVWLmU9Qa7h/9u7HsHq3Ut//NExNoSSMp4ANYecNcgbiuNJBpsgJhRX////+oT4G8EOAAQtSKSxyrL1dFuA00qzaqJERE00MJfljSqFCYmLtS8AEB4AIjMAkbWOlxKEo+suOjkxPa1rWrIdWM8jIrB//NExOMQ2NZwAMsecF3VuT4iPFXCUNSKLCUKSJCtLcSREKD0UMzmRGKBHIOca3LIqiy5IgvN4MDLto6JF2wi+ymymeegdIoTKdmSKrGleUtSueCzMOCpWorpgWuqVNTb//NExPIXAQZcANMwcNDlvG/+Fe/9X/9f//4LGGRtaYsIggACIMIBbGpAoQgOHFiw9M6dUzemOEhDJZhiRBIju82ye6e5w2691LXXqQUKUb1QgAw8uvqtcPDwwAIa2QAA//NExOkTaP5IAHpYcAAAMPL/oPDw8PDBDvjgAAAAAGoylMYS47L+0UlcNy4cw7UjEYll7HUx49dVtxH3aZqxUzOREa7nnu7uYYzRERl2num4sWXoERM6HfQqHFq7oIEK//NExO4VePnoADDMce9d4hUO+LHYIm77m0mY6raRF5W2qqgwUMziIshix2BQxAhboESEoMOHUloRM2hBKVcpLdKoIgREVSzUMKAp0OlgalgaDQlBUNKBoGoNHYld/6zs//NExOsV2MnYABjGcah2WDsqGpU8VUeJrOiLEromPSwNSoKuUDT1A06CroNPg06Crng1iJUmEgDiIGAucEHqJmDC4gMcDkHkX/+E5BHIWVujgpJiyOT/+7O3fIWWLI5F//NExOYcqtngAMGGuenRZn5CyPdv//zkLIJzC05b/snwnI6///yMhZU///YSJBkKDEE1NbMKmDqkIzE/C4ckKjKCg9Ix3XQguDIzLifBtqMRX+izpY6dvTt+nfMz+3vd//NExMYR0C3kAGMGAP+mUowSC6B+Oi8zeWbfghv/e+2N4iIiHy2w+zyZMIw8n/v77H1o/h72IfYu7ZDL1rssBjyCD3j22Pd378PbY8Y920Z/4//9kEIhyb/Dw+ovKWWY//NExNESeE3UAEmGJciMHmSKoCyIYlBREITDI5MeBExCBiYQpnigMMMAxelFTmo61JunqUm9j38NiKNz9/L/YxnFb7X3UTAIxBmhx9oBwOdJe5fe3RKw4HCADQyRc93e//NExNogkuokANsMuUHwXh2dxTvpce9+5icJwkTcTaUlLdJZ//B8PBZV+QHgdZoDA/1VIQCnnI0KDIoxOCA0WA6IAqATCSeXM++m1KwarDYxPBeOSVFJfQaNo3IyZ7nv//NExKofGjZUAOLQuNOztUqIMaC4Xk4BMa4/Xn3LOt1N3ZuXHaNyQXlKpPA+82OJB/IIbV1jdrKl6UUw5EPi6qq9lVXDoOqREd1Eur4//+Nldy3pkf/++UKhYvWosEqF//NExIAf4uJkAOKWuGCQPKXcMR9zsAAMHy4C7zDy41oYbDNToMHQgDnuUA0R7xoiHo8B27+/XMIn7/09xNkJkA3yz0ADnVNG8TRi5iByTA4bkOQSyJ8dw7xsTVIEbiEH//NExFMhctZwANoWuFk9cDZBk8eyWXHTc/Kz6ZW/3XcQxvH9zLS+7Vl3L/+PiYi+6+K5tkfPfDJl05w6KCFvoYap6R2wAIndHxWCNDkjdDDhtOKQX6EHQSjaD6jIzbWp//NExCAYaiKQANtSmLuh6DdN+/XgrbyIKCbEfY2Fz1yNHKTiM3FQnKECkk4Eac0k25vmTqMIKvMq/fz+/s7r//y/9/L7bn/0lv2KWtAAQqHD9twNf3Eh9b4aEZYzYGVV//NExBEWkZacANHelHQWADF648vmv5nUz1MP64ia3nFHmuegu4sarXKGtkNn3EUq0o48FsjvNVo9tqlvFvrNbXxp7Mq3/WMmnraiDP6g//2FH6/gAuZqw/OxD5pHDYcC//NExAkSoY6oAMnSlFPxpRsvDxFvCaGzGzh9+n184fPPygjiXuaA5+4oAaFicmDSILFGdtkNEiMrKXz+XzL8vm+NfN3U0kwCd/Z////+qse/ngCUwHD0eVySggGJZMuY//NExBERgZaoANHQlBEAcv0Hm0QuZzS5DPUBA1LnCKFguIikg1D2zFi+D2yjmDJ6NCx/////NzHNbYpxb/////+WswPqnUoNF2OqmUm/kScMMPBDl3tv0+aZJo2d4q91//NExB4SKZaQANPKlPMkF7X+8BDYtdxXymNJVfT49Nc3lLlQ4CiqFzf///MgseMspDv////+oOUYCKinWBksg99s4gMv66CsgJAmSMiRRJJnM7PKYv+8ucps/j/mqOra//NExCgRQNZkAVowAK/OCtk5JjqnP+yVPJGd8REgZkv1/lTsGv/////rySlBJBWLw820xsuTLX40/p1O87eS0WIPX6Mc48cNKLiHbDgcFAHOJmKHxAUE/4oKRdbDQMAg//NExDYXYlqEAY8oAIB0TH//shzuQYPLFA4Jh4f/+RjndPxQTKYUQLGm//SCADfYNdKA6SXWLPGAVy9YsUfirtqbESYrxriRHZ3IgsPUeSeVCM8RUpNLpOdnKQZMIKyM//NExCsZyuKwAY8oAKQTEhwopIDDAmHwiAgiwDCYqJqp7rHke5ndB4waL6o3EiK3P9GOohmMS6ndmvUjt//6LyFcjD7JEawYxSrVn9QOZIqnECuKouI2wenOY2JZnz8///NExBYPmRK4Adk4AeZfrDB2pvUyenRWMatXQ8oaTUgAgqKBl0LIr8h+BbljtpVfRkPLY7R1x5+JKNVzsyCiELQ0EG0t9NAMhK3PDKeodhdRqLjdRrqLiK6y+6LXJDd6//NExCoSqaa4AMNSlHCElJSQGQSfayq21AgihkkSTZu55eXt/1///62rypLVUsv/rAWpWLdgqXUjUNiYBKwuzY0GfE5JVEAJXUTBnpvuzLbzs4wlz2DAuxbgrBJb33Eq//NExDIRUTa8AMTYcN97GVr7jPMUTMuOUBaK7N9FIAoqzrwAoC18EoC+adOG96A2PNbYeFhubZpLD9Zf8xR/+qW1Ke7t/Yjf+ElLHKMgkfb8Sr95mvbNemaW+l7MuCx6//NExD8RWTK8AH4YcEZXO2U7vTXd7S+EhYxy8ApWGGAwhq612O1hEEMS/WMOPNU+q6UWpLE3FedZ1Vw8HjSBB1FwGB+YLA2EFW6a4Xmq/WIt7VUP2P//tdyKfLFw1bku//NExEwRaTqoAMYQcIBCAEADDDAKmywRqzHagXTLWrFa7MP7LaavOw1frSq9l3Cm3Fq0jAbB8VJUg6FW+Cnr7VGv4a4utpZihaw0eR//dVV6guBGgYMMGjkn7PhUcWxX//NExFkSGTaEAM5QcPgUmZsyl8EQSTBBFQPPBkefi/GJnLmdy/Uu2sLgIIQAMJqAxYkTCc8+FL4RmpJyRv3JFVHVgWkhY8PCSCUOMNBDFRg5aSMpCwMNGGhhLBKK7bsN//NExGMQkO5gANYGcXcpIXdl0gxw338uy2R264KHZrJo6pmpZtz2oo9pqEJtkiCCT7HW/l2SI/KLikIFnNhkNjAefK6hcMh5VI4rAdNT31kRuRX+Xst1JD/eOhD0nqCe//NExHMR8Pp4AN6ScBlM2mdlriTVcYiY/b/r1ZoW8xpM9wk0j/z4sA6VY47i7TBY2Ogg8WD0sJRCbWSyVyKLKgch36p9AMyUhSP6656LFMmATR1DXQhc/6hvTMKn9nDF//NExH4R4Qp4AN5ecEH1D6yj7Q4rxAn///siDBUoW3DLCBGfnLlyp5xpQpdjSY+bcTCBEWB62TBQEC21ZNtqJ259MCjMiuD2Je7vtz++47/bd1BBzpFu5Qh2Qgs7gwAn//NExIkRuX54AOPKlf//SoMESrV2XBYHO8PisKqqVGLcBgIStaGXWIib+1obXPkMjV06QRpsboJkk+8Pk3PqDW/xiPr1JSY9REICiCRqUPqrp//9iDGNdt3+igA9eFSF//NExJUR4X6EANvElBKYnD6GItHKdGuRExUUImXHhw3nBjD3MSXVCozfNZ0sEAjcoJe0iMLCF8H/v12fxTfakMWP3TybfmEuhDQF59Bx6KrognmMqGNv2tqzDhQtKRd///NExKARMXaIANvKlfRfxAGaqS2QwOasTS2DHCWBOgIwMghUGDAIwIWASknUtwQnxtSYJDC3kQQQ3A4jhgGCBEDnDkxWDKBopDpuHD6D75poiEBRzte3WY5blMGw/3iF//NExK4X4YKMANYOlCdeCkn3svy6ij2eaxGRK3NGNAPLNRRnS1z2bWTlo6RtxZDD1vABMYXWgSMJDQRFGBSwX///5RyX0YzqbYQZl4EOILkhAFN7DBwufjAhIG1Cphw8//NExKEhuZKMAN7SlKmCoU6BoOCPaFxxxZxyEwKUKJGalgfga06pJFUzjEyDIyQBETFoiKbjv3EXVfu7SWY0Y7IpKO9rTnasJ+8llzipLDMEbRkCViiCSzqjFLZylOpx//NExG0e0ZKUANaSlJGBMHFAgJgSW/Pe+IGDVbu6kGo6AsouiErdMI3FFCbEPS4QDTIIgMEsP6IwxArAxNYd1DCngpfNiRMsIEIIxI41p42BQIKKRBooLkzAkwEjW+5M//NExEQhEcKYANaSlADly+VxGLwJXaLHzJGfQmSZAwzFrKlsZKKUmnNM6QDIXB8wDJo4lZlpTwlFHiCSq7M83I1cuwl3KTGofpockwPV1zuL1GajA1JSuiMZvrR4VU7k//NExBIVOUqsAM4MlDWc1Ln3LWPNYiT/mK5Pxfl2HUtgSWG5XIadjh5Smvawhl0IpU5kFBGd4CEP6LT3+d//zbeSDQaRQQKAZsSj4KJHGtbv/+YA5GJblNCKatlnWMGA//NExBAVoT6wAMYecJIvya5UVWDhxfkw6aOQsCd7WmyeKjOFcN0QLc0sATtEqu+suFNWxDia/1Cif5rff8J5j4Yo8RQiawFQbHhoHxxkMfW0a/6qx7/bBetWm3hk9IfU//NExAwR8S60AMRecJhqJeBHBpmzOMoKXdKYhiE3fhNceslyUvIn65DiTcfGW5pVjJvtsTP1iW9/4NL3/fXeHw4GFmd++x38Vud3cjpLGoTPcrrYINmK1dbZQeQK71wp//NExBcSKVKsAMvWlIWZb1a0aJP/izZr4u9bdfeHJDpZCZWAmMmdniHO93KV/dmzuWqjsX3cHayWjSoUFZRNsf91kRtGxVh8iSHBmgCVJoQqdly2zQF5pyvWry3XcOWs//NExCESCT6kAM4QcLv7YmvfKbxpIqOUSBkNA2m0WGuOFWu5+ViSRWhYWBWV+VLDntY9laqfls0vExE9PXXjDwQtEuEwdVBXsZMCh0yJxIACUpdCbgZzOVWfDfQp7v3N//NExCsSmS6MANvQcO4oKFE/U9tIKAah907Lc2IDigwZ11bJ5jGHjE////M1kOVCto0AcSDw47hAROA7KocEhQg7MInx/KVfcoi8r7rCksX8MO65TM2M3u9WNBwGPsBh//NExDMRwTqgANYMcHvu3bn5vvf/md/GMYQOCOQ/pE4Xy1dSUDNnmhNQ0hyzzjBcMxriYKVHISshKKG4XHENjffUrt7BxNGt9WxrcG+9Xc0sFA2Ogs5Y2ixZzM73Nzdz//NExD8WSUqoAMvSlOUz3HEZAZ7Wue9NIogWEhMGT6Ol3/d///6UqssaAUc22PSqOxgm0eJgMpYH4pE9FDDhUoihtMCik8qrxfMcQtsGxj0ROHkdJqpcy73//9//L0rk//NExDgP8T6wAMQWcNyJjt9Sh3xWlvZwDFJwW3rMkjfBiBPNVRB/xMPw4dYkVOqntj4Uuvg3F5IyCuaokAXkhwxdjh6bpq2r7c3Z8sTomW/UlI8y3gZ3/ShP///oy1UA//NExEsSAUKkAMvUcJdZtxRsIC+UoAIFfZx+E85HQdF2O6HGnEtHzeqsPErv3///+iGMrJ///+7kRvf9fV8hCMQhCNXer9v9LKex5zkac9CEkvqdWWQQDWomZBYVTpCd//NExFYTow6kAMHEuXTZySsa2Jrxtiv8+jCELhkJ5uytE8TeRmMZhCRV7szZmcmeme+ftM9m03ptWezvvT+i+CazWjEfsomTip8h1W7tKLzlHc3Lx2eLFETTsvXhow3G//NExFofAyaYAEhYvFB1cVTQmGqct0NlBRgGS9YiPCYTSU6PaHpCMBsCQFzBYr4Ff//////+v6r//9f/////H//Xz9fU/7J8/PfN3o1kws6K7woykso6Sg9EerRoPGY8//NExDEUkxqoAChQvdHaHDkEA4C3BY4KAahYHw7BYEIdhIBIwJgGmhIKGA1FAKoGN///////////v9z/U9pr+s9yrG9zStb3VwPmFmEqat6lgqJ6mMQxwx2Q0OjbKD4P//NExDEQ6xqsACgQvcXKDhRQwRjhpQehyaYI4fIPGt0I3//7////7////y////6E0156SNkYl1RrHEDDJBVhQehkJOxGdjneJg4xzkqQe44aIFMGGFWcUBx5wGDrFYPi//NExEAR2xqoABBKvaaBiGFijDrKEp/zud//r/jG/7/+X//+5f////+SEV3RMzz6TosIjCMcQ2ndVjM3DtEtG/L2YKJ1XoUbsaNsZdjZ+vekqgndDRN6D/HTjO7VdJ/P//NExEsQgvKkABBGucv6RHuD98TWcC49jS5bHU+Zodn2XW65H/5//w6QUlYCY1WWqql9LBiSPDzolc/+v/CvuVEv/LV+6GICFoVUTAk4XWeWqAsCQGAOAxgjFbRMIAIY//NExFwP6dKUADDGlMcbN9dwlLUsKMYwFwpQXQiHKxdCFDy/iLeNbEvudcbcb1Fljzrv9/fsFHfkbcCFfA5hQptCkyOkxCQAQQqFQP4QktYWKuOnd4YCDSB/Wt6Lxheq//NExG8ReN58AMJGcUO97EbkbBAQmBksDKGhhJgYEViHBdltvueihcOw8ICCbYDS6VvGDhec0MwCLktSqPH7JgYWN83QyIMTwipb4OMYYel2CtZnr5D2eNHgy2njWvBO//NExHwQsIpsAN6eTAXOQukXcIFN7Lf+VnZon/BAQNsiXDWxEfGyQpgICLBS+Dt70zUbZdAgsNkQCkRJhGMAIYb2TiomuUWEAxe3qZqc39fOm5ZmChkpR8aHyBuhJQqD//NExIwRMKJwAObeTODhOnVkjwipMDFVXUdFRo3W0IoNcaqZoHKdWTMhgsRDz8QDSg5ezA0KcFEHDtsOAxhfEOymCr31ZNfzzuf++W89ZXU9+kIY2s7xmff/7u2eydBY//NExJoSYJ58AN7wTCIVl3ptECEg5wQUfBiGqDDCbtYRvr6qlWtxIzdCaDGn1GTs2MHqOEFjs7AfVqhyNGTJHlLp9w0DB5wK5oxKfCzwsJObHNCDeaCUAC6H4tQZD8by//NExKMZoY6AAN6MlK0rl9vGxGLGNyQZ1YvihSYhVz3fc53BSDMT5AyQoFGDznqFOq60wJWFBBEFEqcy+1MVBlKKmc6zdRBHTXrZoomzRLNl8MGJXGfExZ42UFABwg0c//NExI8cIYqMAN6SlKF3GbUBqGmtAAh4FoDjK7YEHg4RxLEphx/8saWalmGrsYQzm1jHHt23L/Z7f1H14LLBUAGpuinjkSqKJEyEgUEAMVUKzD6s1J2tnhLwIPEscYi6//NExHEZqYKYANZMlAUAPIKJu9Aq0gDSDCHdh9wjhuQsl8Bp2ADcWLhLOS8p7Bw9KWbhVIlDb+JyJkS66P8K78WtXDZJnVJSTOmYv+md/uoekKWdYREaNVEJjG2hJTf7//NExF0ceY6UANZSlSSk+yFRtAWh26pybxToqrAx69//+qX6rdjESDMqWqSChrgKapLqS5siiyY3AYKIKNHg2EOZ/+a+E3obEAkYDW5QuOpLh0xlCtbcAABqzAqPC78d//NExD4ZiZacAM4KlMpReh1jvKHBzzHehr5bVGvQYAQEqPA6Mw0ljhb0YaPZZ+twPslr3LRVx5lZNsLmcQIUkc56hUeNChaUvjich/E/UffsRvARpFPKqGFTJqd9y54J//NExCoWSVqkAMYGlBNCfd8CUiAGHZfK4tnnhMb5TCCjchURFafn+vy/o4DSDhBTBEFRO6BQXNHm+4Z1qu7rMADcxXOAhzKvqZrAE0r53nABhFh6dupddGRH6PuGhgXi//NExCMUOVKoAMYGlYdYgsuMQqlgN2C7ysKci1YCkdqQzVrHKuFBy13jK87//5n5KWpEwum3vLbdOFXD+JbJYz0oERmDXmRmkIIGqfCLOFXGAFahqtbiclxRJehMjSTB//NExCUTGO6sAMPecMqeVy8rV0fpMxdhkoSp0vFVDlFzHxBzemsUj4FEfARdQJiULAVFIsqvybFZvLkmQgrUmi9qvmUc45kthYDlmsSM4YrcOE6dl8Wo0N99DhzTw5Do//NExCsRCMaoAMPYcCIG4Hn5Xu8EQmJgfY6N5MuRMAU0e0GH4kVVsWK5ix24WNIiYr7PqHOmRjMM2I+DjUVZeDrZ4M1wzbnCe5z3xXMYXTzQuA/PYBIdUjXJtnzdubna//NExDkRKUacAMYUcJ2s4oNpGGlu3q+k0muxVsg715XhIvCQXJCtpmEvs0kBBP11nqltLZee1iJvuDLNK5jbN2RIuUA03E6iXKjDwMJ9Go8We3/uo1HiFVm3m5mhrSKa//NExEcPmLqQAMZSTGKAK0RA6ZAybm8EUstgRcD2m4zsgcNNLGkj+eXaXf3MeE4iQ1SAiIzUnc653OyNGitQpmlqmvH7PFYkQFD3/2tzfoUvq1JNA0qZKoQSipiraZaN//NExFsSoT54AN4McDnhQlMOb0EB6gOYK68QmLDMMQWlVMkGe+J6w49CJfEChKOjvoTvXlMpWJE9Pzz3M4LBx3//v0pBFBgXBTjypl7TTRi8OO3kAImCwJUbumAluoxi//NExGMRqUJ0ANvGcNWmiLN7TtS5jvv465WPe3zUCdBxDaS3C9O7tzz3GZ6fWj/52j2eig6j/7+uai7QWJzjiYeBHcMzjl0IGmJCo87OIOiE28zhWUgXdB1Ro9jmGP5X//NExG8R8Tp4AN4McGzvlMiVQTihxAaEJYlP0Og3FBg7//9OAkyAEPPK/9XU2GpukGAguOYKR0ABAEbg+jQooCCXgBEw8DL2HkxbdHKZ1EWllEtq8r5YVruHck6a8y7I//NExHoSMTp0AN4GcMMzUt7d1cfG5wTR4XHA+tlkEA4HiIet/2k/IJoQg1KyCwaMyMgBREe2AsRCoQCR4ZDIAjCIYopibqTuUugaxh+OG9b7o5VsdYkA0Rew9mTLum/q//NExIQTIPJwAN4ScBxWlmp+vi+J4JBF//yyT3sEVRQs7NzOSPEwtiXWACpawv0gJXYWWCVAaoaLcX4nTgcx1R06qYT5XUjW3Wq7LKCFAJLCsFUv/9YzgJqv/tGvVDG6//NExIoSGTZwANYQcN/1jCoPyUAZkFgzgsZQSX8reWoOiSfdh8zf2Ni/BMxpzz6TZsZBjQgrzR4s1F5YFdJ08WFni522SDpLJDrcl/93bMrndKofS7SR3oAhR2qxnFwR//NExJQRAUJIAMvGcAGFY6TIVl9zc4wUIJZQQcYCCggDNiyQVDICE4CCT9JIChQ0DJE79ISaBQk/0CrlkTv0HYFZ9bHC3/vpElKo51A/bj9LsVJUnYh6oc4l4EpZR8LR//NExKMQiPYIAGGGcCREUBHwHlCwqIzILC4ZdFRZpoCiiP1C6fxUUJfiwuR1toCoo3FhXUL8VFv4sK1MQU1FMy4xMDBVVVVVVVVVVVVVVVVVVVVVVVVVVVVVTEFNRTMu//NExLMSAI3oAHpGTDEwMFVVVVVVVVVVVVVVVVVVVVVVVVVVVVVVVVVVVVVVVVVVVVVVVVVVVVVVVVVVVVVVVVVVVVVVVVVVVVVVVVVVVVVVVVVVVVVVVVVVTEFNRTMu//NExL4RaHl0AHvMSDEwMFVVVVVVVVVVVVVVVVVVVVVVVVVVVVVVVVVVVVVVVVVVVVVVVVVVVVVVVVVVVVVVVVVVVVVVVVVVVVVVVVVVVVVVVVVVVVVVVVVVDghEB0Qw//NExKwAAANIAAAAAPTPCyggDCxAQeIr8Si4LCE8J4SE8S/10IOaK//Cc00p9NCTfQq8FwRRcEK5BzCEHHCDBBAcXBFA2A2AFc0RxDuiOaEhbmhObsm/lpXiV4kLc0Jz//NExKwAAANIAAAAAA5iB4BEzSI0mHUJieB1IJTZ6tQjFIIxTCkhDsPJqKXS6yZKWNCI+KVCZVhEm0QwRJuknBCkaITwqbJUmZfJJuWmitmU5O02yMVsyxIokeEmAI8A//NExKwAAANIAAAAAJgBQBlgo0GHApISEnBRYBKARQUeEwS0iiaiKHCUSSzdecO01RKCVotX8uRgkWRKSNSefVGoikQZIiokuZcjBKyMErJWGg6SZoUAihZBNWzRxrPR//NExP8YspHIADDGuacJAgI8xNSUnGmlFw7AwQcGjkasFDBgYR0sqI+ZMoYGDBOGfiopqFv9Ys38WFWRXioqLN+CwsKkXesVFkxBTUUzLjEwMFVVVVVVVVVVTEFNRTMu//NExO8kYtnMAGJMuDEwMFVVVVVVVVVVVVVVVVVVVVVVVVVVVVVVVVVVVVVVVVVVVVVVVVVVVVVVVVVVVVVVVVVVVVVVVVVVVVVVVVVVVVVVVVVVVVVVVVVViXpDk+RK//NExLARgQlAADGGcN1GWyYVy8cmRZH4YCwdzBPAzZ2N9xvNt30puVtW1Y33G8r8z3XzbV/r3puc7dUK7OzuRUZ/9FMMMLIch050V2dnch/V3Y5FQphhByHIqf9ndv3d//NExKwAAANIAAAAAJ/2dFRTFHFgZGkYr/qgCiTEMLGhDnrUZxRqCQCXWIzWuF8FO6g4QTKUgmhspIrQZ9bEyBMgYezt9zVq2ampZv81HS3J0cIDjE4IGxGkUyNHQODB//NExKwAAANIAAAAACnqOIFunZZojlkZGiOh8rKpk8UcQ5lkeToCUxAeCkM2jIrgfIwMVpkarghIyglKhupXVtVoMDCCxIEDJgzkKCoOJDAhangELJJAyK+Kt/+ZFxUy//NExP8Z2tWoAGMEuRL7QESAoqSf+LM4oLGgqzQBRQCkQWFsVAQTMixoVkxBTUUzLjEwMKqqqqqqqqqqqqqqqqqqqqqqqqqqqqqqqqqqqqqqqqqqqqqqqqqqTEFNRTMu//NExOocInnsAHmGuTEwMKqqqqqqqqqqqqqqqqqqqqqqqqqqqqqqqqqqqqqqqqqqqqqqqqqqqqqqqqqqqqqqqqqqqqqqqqqqqqqqqqqqqqqqqqqqqqqqqqqqTEFNRTMu//NExMwQ8HnMAGDGSDEwMKqqqqqqqqqqqqqqqqqqqqqqqqqqqqqqqqqqqqqqqqqqqqqqqqqqqqqqqqqqqqqqqqqqqqqqqqqqqqqqqqqqqqqqqqqqqqqqqqqqTEFNRTMu//NExKwAAANIAAAAADEwMKqqqqqqqqqqqqqqqqqqqqqqqqqqqqqqqqqqqqqqqqqqqqqqqqqqqqqqqqqqqqqqqqqqqqqqqqqqqqqqqqqqqqqqqqqqqqqqqqqqTEFNRTMu//NExKwAAANIAAAAADEwMKqqqqqqqqqqqqqqqqqqqqqqqqqqqqqqqqqqqqqqqqqqqqqqqqqqqqqqqqqqqqqqqqqqqqqqqqqqqqqqqqqqqqqqqqqqqqqqqqqqTEFNRTMu//NExKwAAANIAAAAADEwMKqqqqqqqqqqqqqqqqqqqqqqqqqqqqqqqqqqqqqqqqqqqqqqqqqqqqqqqqqqqqqqqqqqqqqqqqqqqqqqqqqqqqqqqqqqqqqqqqqqTEFNRTMu//NExKwAAANIAAAAADEwMKqqqqqqqqqqqqqqqqqqqqqqqqqqqqqqqqqqqqqqqqqqqqqqqqqqqqqqqqqqqqqqqqqqqqqqqqqqqqqqqqqqqqqqqqqqqqqqqqqqTEFNRTMu//NExKwAAANIAAAAADEwMKqqqqqqqqqqqqqqqqqqqqqqqqqqqqqqqqqqqqqqqqqqqqqqqqqqqqqqqqqqqqqqqqqqqqqqqqqqqqqqqqqqqqqqqqqqqqqqqqqqTEFNRTMu//NExKwAAANIAAAAADEwMKqqqqqqqqqqqqqqqqqqqqqqqqqqqqqqqqqqqqqqqqqqqqqqqqqqqqqqqqqqqqqqqqqqqqqqqqqqqqqqqqqqqqqqqqqqqqqqqqqqTEFNRTMu//NExKwAAANIAAAAADEwMKqqqqqqqqqqqqqqqqqqqqqqqqqqqqqqqqqqqqqqqqqqqqqqqqqqqqqqqqqqqqqqqqqqqqqqqqqqqqqqqqqqqqqqqqqqqqqqqqqqqqqqqqqq//NExKwAAANIAAAAAKqqqqqqqqqqqqqqqqqqqqqqqqqqqqqqqqqqqqqqqqqqqqqqqqqqqqqqqqqqqqqqqqqqqqqqqqqqqqqqqqqqqqqqqqqqqqqqqqqqqqqqqqqqqqqq//NExKwAAANIAAAAAKqqqqqqqqqqqqqqqqqqqqqqqqqqqqqqqqqqqqqqqqqqqqqqqqqqqqqqqqqqqqqqqqqqqqqqqqqqqqqqqqqqqqqqqqqqqqqqqqqqqqqqqqqqqqqq\" type=\"audio/mpeg\" />\n",
              "                    Your browser does not support the audio element.\n",
              "                </audio>\n",
              "              "
            ]
          },
          "metadata": {},
          "execution_count": 18
        }
      ]
    },
    {
      "cell_type": "markdown",
      "source": [
        "More operators: <br>\n",
        "* Comparison Operators: ==, !=, <, >, <=, >= <br>\n",
        "* Assignment Operators: =, +=, -=, *=, /=, %= <br>\n",
        "* Logical Operators: and, or, not <br>\n",
        "* Identity Operators: is, is not <br>\n",
        "* Membership Operators: in, not in "
      ],
      "metadata": {
        "id": "sfubu24UbqjH"
      }
    },
    {
      "cell_type": "markdown",
      "source": [
        "# 📗Topic [3] Data types: number, string, list and dictionary\n"
      ],
      "metadata": {
        "id": "3eSrUoglRh6-"
      }
    },
    {
      "cell_type": "markdown",
      "source": [
        "\n",
        "|Data type| |\n",
        "|:--:|:--:|\n",
        "|number|int, float|\n",
        "|string|charcter|\n",
        "|list|[1, 2,4], ['Mary','Tom','Jane'|\n",
        "|dictionary|(key: value), [('English': 80), ('Korean':90)]|\n",
        "|tuple|('zero', 0)|\n"
      ],
      "metadata": {
        "id": "ZVFb5JmJrPXu"
      }
    },
    {
      "cell_type": "markdown",
      "source": [
        "list: 하나 이상의 데이터"
      ],
      "metadata": {
        "id": "NII_WC6zP0jd"
      }
    },
    {
      "cell_type": "code",
      "source": [
        "a1 = 3   # a1 is integer\n",
        "a2 = 3.0 # a2 is float\n",
        "a3 = \"3\" # a3 is string\n",
        "\n",
        "type(a1); type(a2); type(a3)\n",
        "print(type(a1), type(a2), type(a3))"
      ],
      "metadata": {
        "colab": {
          "base_uri": "https://localhost:8080/"
        },
        "id": "g-kvldqENA1e",
        "outputId": "58a83332-eba9-4d8f-a3fa-35f4d70eca69"
      },
      "execution_count": 21,
      "outputs": [
        {
          "output_type": "stream",
          "name": "stdout",
          "text": [
            "<class 'int'> <class 'float'> <class 'str'>\n"
          ]
        }
      ]
    },
    {
      "cell_type": "markdown",
      "source": [
        "list and index (0, 1, 2,...)"
      ],
      "metadata": {
        "id": "HC_wMsPnNbzs"
      }
    },
    {
      "cell_type": "code",
      "source": [
        "a = [1, \"Mary\", 4, \"John\"]  # This is a list.\n",
        "print(type(a))\n",
        "\n",
        "# a+a"
      ],
      "metadata": {
        "colab": {
          "base_uri": "https://localhost:8080/"
        },
        "id": "LyTw7phONZHE",
        "outputId": "ac70186b-2fcd-4e19-9203-e4c5e2674bf3"
      },
      "execution_count": 23,
      "outputs": [
        {
          "output_type": "stream",
          "name": "stdout",
          "text": [
            "<class 'list'>\n"
          ]
        }
      ]
    },
    {
      "cell_type": "markdown",
      "source": [
        "list도 int나 str처럼 하나의 타입임(하나 이상의 변수가 모아진)"
      ],
      "metadata": {
        "id": "TP0SiCbr9FxA"
      }
    },
    {
      "cell_type": "markdown",
      "source": [
        "* index: Python index starts from '0'\n",
        "\n",
        "e.g., a = [1, 2, 3, 4] \n",
        "0번째~3번째째"
      ],
      "metadata": {
        "id": "-fL-pJvj7NW8"
      }
    },
    {
      "cell_type": "code",
      "source": [
        "a[0]\n",
        "type(a[0])\n",
        "type(a[1])\n",
        "# a[0] + a[2]\n",
        "# a[0] + a[1]"
      ],
      "metadata": {
        "id": "9Z5zLDGc7X13",
        "outputId": "82848f48-43cf-44b4-afcf-5890d3b381f7",
        "colab": {
          "base_uri": "https://localhost:8080/"
        }
      },
      "execution_count": 26,
      "outputs": [
        {
          "output_type": "execute_result",
          "data": {
            "text/plain": [
              "str"
            ]
          },
          "metadata": {},
          "execution_count": 26
        }
      ]
    },
    {
      "cell_type": "markdown",
      "source": [
        "a[0] + a[1] :에러 \n",
        "str과 number는 더할 수 없음\n"
      ],
      "metadata": {
        "id": "QgyyaDpbQhqF"
      }
    },
    {
      "cell_type": "markdown",
      "source": [
        "[Github accounts](https://raw.githubusercontent.com/MK316/Spring2023/main/DL/files/DL_github.csv)"
      ],
      "metadata": {
        "id": "S-KG49Zaim0S"
      }
    },
    {
      "cell_type": "markdown",
      "source": [
        "\n",
        "\n",
        "---\n",
        "# The End\n"
      ],
      "metadata": {
        "id": "3cZjH9xIiN4_"
      }
    }
  ]
}