{
  "nbformat": 4,
  "nbformat_minor": 0,
  "metadata": {
    "colab": {
      "provenance": [],
      "authorship_tag": "ABX9TyOsw6hANh6j1+NLNlScyqRy",
      "include_colab_link": true
    },
    "kernelspec": {
      "name": "python3",
      "display_name": "Python 3"
    },
    "language_info": {
      "name": "python"
    }
  },
  "cells": [
    {
      "cell_type": "markdown",
      "metadata": {
        "id": "view-in-github",
        "colab_type": "text"
      },
      "source": [
        "<a href=\"https://colab.research.google.com/github/gnudahyeon/DL23/blob/main/%EB%B2%94%EC%9C%84_%EC%A0%95%EB%A6%AC_ipynb%EC%9D%98_%EC%82%AC%EB%B3%B8.ipynb\" target=\"_parent\"><img src=\"https://colab.research.google.com/assets/colab-badge.svg\" alt=\"Open In Colab\"/></a>"
      ]
    },
    {
      "cell_type": "markdown",
      "source": [
        "DL\n",
        "W01 이미지 url로 첨부/ if 함수, gtts , split\n",
        "W02a gtts 정의 (ktts,etts,ftts)\n",
        "w02b csv엑셀 표, 수식 부호\n",
        "w02c 이미지, #@param , 런던시\n",
        "w02d int, str type구분, dropbox 포맷\n",
        " :숫자(int,float),문자(string),dictionary, list는 하나 이상의 데이터\n",
        "w04a youtube 링크, 오디오.     :API=application programming interfaces\n",
        "*w06a part1 word quiz(def, for in함수),yes no question, story game, random 변수, 파이선 베이직(str,int,list,dic) print, input.\n",
        ": list내에서 n번째거 출력 list[n] 근데 0부터 시작 / dic는 key 와 value관계 / num days 세는것도 나옴 / .strip() 이랑 .lower()\n",
        ".join() split() data.lower() data.upper()\n",
        "\n",
        "*w06a part2\n",
        "for loops, while, if elif else\n",
        "data.append() len() range()\n",
        "\n",
        "w06b 파이선 기본 조에서 정리해놓은거 슬라이싱같은거 잇음 문자열 대입\n",
        "\n",
        "w07b 문장 split 하는거 대문자 소문자 quote\n",
        "\n",
        "DLF\n",
        "*NLP01 data.split()\n",
        "data.strip() for s in set :불필요한 스페이스 제거\n",
        "빈 string 제거 : x for x in set if x=!\"\"\n",
        "sent, word_tokenize nltk\n",
        "sent_tokenize는 split과 달리 처음부터 빈스링없이, 스페이스 없이 잘림\n",
        "stopwords (불필요한 단어 빼는거)\n",
        "casefold 소문자\n",
        "append() 추가\n",
        "additional_stopwords도 가능\n",
        "Tagging 문장 내 품사 구별\n",
        "concordance(\"x\") x라는 단어의 발생 검색-그 문장 나옴\n",
        "*NLP02\n",
        "words길이 제한해서 새로운 리스트\n",
        "FreqDist단어사용 빈도 / 빈도높은 단어 순으로 정렬도 가능\n",
        "단어 /빈도로 표 csv"
      ],
      "metadata": {
        "id": "wlre2AT5uQmW"
      }
    }
  ]
}